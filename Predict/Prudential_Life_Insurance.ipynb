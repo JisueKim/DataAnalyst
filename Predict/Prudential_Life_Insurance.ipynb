{
  "nbformat": 4,
  "nbformat_minor": 0,
  "metadata": {
    "colab": {
      "name": "Prudential Life Insurance.ipynb",
      "provenance": [],
      "collapsed_sections": []
    },
    "kernelspec": {
      "name": "python3",
      "display_name": "Python 3"
    }
  },
  "cells": [
    {
      "cell_type": "markdown",
      "metadata": {
        "id": "C9c4pbuqKni_"
      },
      "source": [
        "# Prudential life insurance      \n",
        "데이터셋 - Kaggle      \n",
        "형태 - 파일데이터(csv)     \n",
        "생성일자 - 2015년        \n",
        "다운로드 - https://www.kaggle.com/c/prudential-life-insurance-assessment      "
      ]
    },
    {
      "cell_type": "markdown",
      "metadata": {
        "id": "re3uoAPWTF1s"
      },
      "source": [
        "# 1. Introduction\n",
        "\n",
        "미국 최대의 생명 보험회사 푸르덴셜에서 5년전 제공한 데이터 셋입니다. 이 데이터 세트에는 생명 보험 신청자의 속성을 설명하는 100 개 이상의 변수가 제공됩니다. 테스트 세트의 각 ID에 대한 \"Response\"변수를 예측하는 것입니다. \"Response\"은 8 단계의 위험 분류 입니다.\n",
        "\n",
        "생명보험 청약 프로세스는 평균 30 일 이내에 건강 검진을 포함하여 위험 분류 및 적격성을 식별하기 위해 광범위한 정보를 바탕으로 진행됩니다. 이러한 이유로 미국 가구의 40 %만이 개인 생명 보험을 소유하고 있습니다. 푸르덴셜은 신규 및 기존 고객이 프라이버시 경계를 유지하면서 청약 프로세스를 신속하고 비용 효과적으로 만들고자 합니다. \n",
        "\n",
        "향상된 자동화 방식을 사용하여 위험을 정확하게 분류하는 예측 모델을 개발함으로써 업계에 대한 대중의 인식에 큰 영향을 미칠 수 있을 것입니다. "
      ]
    },
    {
      "cell_type": "code",
      "metadata": {
        "id": "KNz9SmIFTzmG"
      },
      "source": [
        "import pandas as pd\n",
        "import numpy as np\n",
        "import matplotlib.pyplot as plt\n",
        "import seaborn as sns\n",
        "import warnings\n",
        "\n",
        "warnings.filterwarnings('ignore')\n",
        "plt.rc('font', family='NanumBarunGothic') \n",
        "plt.rcParams['figure.figsize'] = (10, 7)\n",
        "\n",
        "pd.set_option('display.float_format', lambda x: '%.2f' % x)\n",
        "\n",
        "%matplotlib inline "
      ],
      "execution_count": 1,
      "outputs": []
    },
    {
      "cell_type": "code",
      "metadata": {
        "id": "wRGTf6poT3vM",
        "outputId": "d570b356-6fa5-4632-c17e-1506d732c9b0",
        "colab": {
          "base_uri": "https://localhost:8080/",
          "height": 54
        }
      },
      "source": [
        "from google.colab import drive\n",
        "drive.mount('/content/drive')"
      ],
      "execution_count": 2,
      "outputs": [
        {
          "output_type": "stream",
          "text": [
            "Drive already mounted at /content/drive; to attempt to forcibly remount, call drive.mount(\"/content/drive\", force_remount=True).\n"
          ],
          "name": "stdout"
        }
      ]
    },
    {
      "cell_type": "code",
      "metadata": {
        "id": "6Mk3wSiCT9_K",
        "outputId": "9b8886a5-6194-4e1a-b3e6-81aa0f4703d7",
        "colab": {
          "base_uri": "https://localhost:8080/",
          "height": 34
        }
      },
      "source": [
        "filename = '/content/sample_data/train.csv'\n",
        "orgin = pd.read_csv(filename)\n",
        "orgin.shape"
      ],
      "execution_count": 3,
      "outputs": [
        {
          "output_type": "execute_result",
          "data": {
            "text/plain": [
              "(59381, 128)"
            ]
          },
          "metadata": {
            "tags": []
          },
          "execution_count": 3
        }
      ]
    },
    {
      "cell_type": "code",
      "metadata": {
        "id": "BCfLYY1_MRHi"
      },
      "source": [
        "train = orgin.copy()"
      ],
      "execution_count": 4,
      "outputs": []
    },
    {
      "cell_type": "code",
      "metadata": {
        "id": "5CE6-gUjxr2-",
        "outputId": "42efddc1-c2a5-44ca-ac4b-234a10fc03d3",
        "colab": {
          "base_uri": "https://localhost:8080/",
          "height": 253
        }
      },
      "source": [
        "train.head()"
      ],
      "execution_count": 5,
      "outputs": [
        {
          "output_type": "execute_result",
          "data": {
            "text/html": [
              "<div>\n",
              "<style scoped>\n",
              "    .dataframe tbody tr th:only-of-type {\n",
              "        vertical-align: middle;\n",
              "    }\n",
              "\n",
              "    .dataframe tbody tr th {\n",
              "        vertical-align: top;\n",
              "    }\n",
              "\n",
              "    .dataframe thead th {\n",
              "        text-align: right;\n",
              "    }\n",
              "</style>\n",
              "<table border=\"1\" class=\"dataframe\">\n",
              "  <thead>\n",
              "    <tr style=\"text-align: right;\">\n",
              "      <th></th>\n",
              "      <th>Id</th>\n",
              "      <th>Product_Info_1</th>\n",
              "      <th>Product_Info_2</th>\n",
              "      <th>Product_Info_3</th>\n",
              "      <th>Product_Info_4</th>\n",
              "      <th>Product_Info_5</th>\n",
              "      <th>Product_Info_6</th>\n",
              "      <th>Product_Info_7</th>\n",
              "      <th>Ins_Age</th>\n",
              "      <th>Ht</th>\n",
              "      <th>Wt</th>\n",
              "      <th>BMI</th>\n",
              "      <th>Employment_Info_1</th>\n",
              "      <th>Employment_Info_2</th>\n",
              "      <th>Employment_Info_3</th>\n",
              "      <th>Employment_Info_4</th>\n",
              "      <th>Employment_Info_5</th>\n",
              "      <th>Employment_Info_6</th>\n",
              "      <th>InsuredInfo_1</th>\n",
              "      <th>InsuredInfo_2</th>\n",
              "      <th>InsuredInfo_3</th>\n",
              "      <th>InsuredInfo_4</th>\n",
              "      <th>InsuredInfo_5</th>\n",
              "      <th>InsuredInfo_6</th>\n",
              "      <th>InsuredInfo_7</th>\n",
              "      <th>Insurance_History_1</th>\n",
              "      <th>Insurance_History_2</th>\n",
              "      <th>Insurance_History_3</th>\n",
              "      <th>Insurance_History_4</th>\n",
              "      <th>Insurance_History_5</th>\n",
              "      <th>Insurance_History_7</th>\n",
              "      <th>Insurance_History_8</th>\n",
              "      <th>Insurance_History_9</th>\n",
              "      <th>Family_Hist_1</th>\n",
              "      <th>Family_Hist_2</th>\n",
              "      <th>Family_Hist_3</th>\n",
              "      <th>Family_Hist_4</th>\n",
              "      <th>Family_Hist_5</th>\n",
              "      <th>Medical_History_1</th>\n",
              "      <th>Medical_History_2</th>\n",
              "      <th>...</th>\n",
              "      <th>Medical_Keyword_10</th>\n",
              "      <th>Medical_Keyword_11</th>\n",
              "      <th>Medical_Keyword_12</th>\n",
              "      <th>Medical_Keyword_13</th>\n",
              "      <th>Medical_Keyword_14</th>\n",
              "      <th>Medical_Keyword_15</th>\n",
              "      <th>Medical_Keyword_16</th>\n",
              "      <th>Medical_Keyword_17</th>\n",
              "      <th>Medical_Keyword_18</th>\n",
              "      <th>Medical_Keyword_19</th>\n",
              "      <th>Medical_Keyword_20</th>\n",
              "      <th>Medical_Keyword_21</th>\n",
              "      <th>Medical_Keyword_22</th>\n",
              "      <th>Medical_Keyword_23</th>\n",
              "      <th>Medical_Keyword_24</th>\n",
              "      <th>Medical_Keyword_25</th>\n",
              "      <th>Medical_Keyword_26</th>\n",
              "      <th>Medical_Keyword_27</th>\n",
              "      <th>Medical_Keyword_28</th>\n",
              "      <th>Medical_Keyword_29</th>\n",
              "      <th>Medical_Keyword_30</th>\n",
              "      <th>Medical_Keyword_31</th>\n",
              "      <th>Medical_Keyword_32</th>\n",
              "      <th>Medical_Keyword_33</th>\n",
              "      <th>Medical_Keyword_34</th>\n",
              "      <th>Medical_Keyword_35</th>\n",
              "      <th>Medical_Keyword_36</th>\n",
              "      <th>Medical_Keyword_37</th>\n",
              "      <th>Medical_Keyword_38</th>\n",
              "      <th>Medical_Keyword_39</th>\n",
              "      <th>Medical_Keyword_40</th>\n",
              "      <th>Medical_Keyword_41</th>\n",
              "      <th>Medical_Keyword_42</th>\n",
              "      <th>Medical_Keyword_43</th>\n",
              "      <th>Medical_Keyword_44</th>\n",
              "      <th>Medical_Keyword_45</th>\n",
              "      <th>Medical_Keyword_46</th>\n",
              "      <th>Medical_Keyword_47</th>\n",
              "      <th>Medical_Keyword_48</th>\n",
              "      <th>Response</th>\n",
              "    </tr>\n",
              "  </thead>\n",
              "  <tbody>\n",
              "    <tr>\n",
              "      <th>0</th>\n",
              "      <td>2</td>\n",
              "      <td>1</td>\n",
              "      <td>D3</td>\n",
              "      <td>10</td>\n",
              "      <td>0.08</td>\n",
              "      <td>2</td>\n",
              "      <td>1</td>\n",
              "      <td>1</td>\n",
              "      <td>0.64</td>\n",
              "      <td>0.58</td>\n",
              "      <td>0.15</td>\n",
              "      <td>0.32</td>\n",
              "      <td>0.03</td>\n",
              "      <td>12</td>\n",
              "      <td>1</td>\n",
              "      <td>0.00</td>\n",
              "      <td>3</td>\n",
              "      <td>nan</td>\n",
              "      <td>1</td>\n",
              "      <td>2</td>\n",
              "      <td>6</td>\n",
              "      <td>3</td>\n",
              "      <td>1</td>\n",
              "      <td>2</td>\n",
              "      <td>1</td>\n",
              "      <td>1</td>\n",
              "      <td>1</td>\n",
              "      <td>3</td>\n",
              "      <td>1</td>\n",
              "      <td>0.00</td>\n",
              "      <td>1</td>\n",
              "      <td>1</td>\n",
              "      <td>2</td>\n",
              "      <td>2</td>\n",
              "      <td>nan</td>\n",
              "      <td>0.60</td>\n",
              "      <td>nan</td>\n",
              "      <td>0.53</td>\n",
              "      <td>4.00</td>\n",
              "      <td>112</td>\n",
              "      <td>...</td>\n",
              "      <td>0</td>\n",
              "      <td>0</td>\n",
              "      <td>0</td>\n",
              "      <td>0</td>\n",
              "      <td>0</td>\n",
              "      <td>0</td>\n",
              "      <td>0</td>\n",
              "      <td>0</td>\n",
              "      <td>0</td>\n",
              "      <td>0</td>\n",
              "      <td>0</td>\n",
              "      <td>0</td>\n",
              "      <td>0</td>\n",
              "      <td>0</td>\n",
              "      <td>0</td>\n",
              "      <td>0</td>\n",
              "      <td>0</td>\n",
              "      <td>0</td>\n",
              "      <td>0</td>\n",
              "      <td>0</td>\n",
              "      <td>0</td>\n",
              "      <td>0</td>\n",
              "      <td>0</td>\n",
              "      <td>0</td>\n",
              "      <td>0</td>\n",
              "      <td>0</td>\n",
              "      <td>0</td>\n",
              "      <td>0</td>\n",
              "      <td>0</td>\n",
              "      <td>0</td>\n",
              "      <td>0</td>\n",
              "      <td>0</td>\n",
              "      <td>0</td>\n",
              "      <td>0</td>\n",
              "      <td>0</td>\n",
              "      <td>0</td>\n",
              "      <td>0</td>\n",
              "      <td>0</td>\n",
              "      <td>0</td>\n",
              "      <td>8</td>\n",
              "    </tr>\n",
              "    <tr>\n",
              "      <th>1</th>\n",
              "      <td>5</td>\n",
              "      <td>1</td>\n",
              "      <td>A1</td>\n",
              "      <td>26</td>\n",
              "      <td>0.08</td>\n",
              "      <td>2</td>\n",
              "      <td>3</td>\n",
              "      <td>1</td>\n",
              "      <td>0.06</td>\n",
              "      <td>0.60</td>\n",
              "      <td>0.13</td>\n",
              "      <td>0.27</td>\n",
              "      <td>0.00</td>\n",
              "      <td>1</td>\n",
              "      <td>3</td>\n",
              "      <td>0.00</td>\n",
              "      <td>2</td>\n",
              "      <td>0.00</td>\n",
              "      <td>1</td>\n",
              "      <td>2</td>\n",
              "      <td>6</td>\n",
              "      <td>3</td>\n",
              "      <td>1</td>\n",
              "      <td>2</td>\n",
              "      <td>1</td>\n",
              "      <td>2</td>\n",
              "      <td>1</td>\n",
              "      <td>3</td>\n",
              "      <td>1</td>\n",
              "      <td>0.00</td>\n",
              "      <td>1</td>\n",
              "      <td>3</td>\n",
              "      <td>2</td>\n",
              "      <td>2</td>\n",
              "      <td>0.19</td>\n",
              "      <td>nan</td>\n",
              "      <td>0.08</td>\n",
              "      <td>nan</td>\n",
              "      <td>5.00</td>\n",
              "      <td>412</td>\n",
              "      <td>...</td>\n",
              "      <td>0</td>\n",
              "      <td>0</td>\n",
              "      <td>0</td>\n",
              "      <td>0</td>\n",
              "      <td>0</td>\n",
              "      <td>0</td>\n",
              "      <td>0</td>\n",
              "      <td>0</td>\n",
              "      <td>0</td>\n",
              "      <td>0</td>\n",
              "      <td>0</td>\n",
              "      <td>0</td>\n",
              "      <td>0</td>\n",
              "      <td>0</td>\n",
              "      <td>0</td>\n",
              "      <td>0</td>\n",
              "      <td>0</td>\n",
              "      <td>0</td>\n",
              "      <td>0</td>\n",
              "      <td>0</td>\n",
              "      <td>0</td>\n",
              "      <td>0</td>\n",
              "      <td>0</td>\n",
              "      <td>0</td>\n",
              "      <td>0</td>\n",
              "      <td>0</td>\n",
              "      <td>0</td>\n",
              "      <td>0</td>\n",
              "      <td>0</td>\n",
              "      <td>0</td>\n",
              "      <td>0</td>\n",
              "      <td>0</td>\n",
              "      <td>0</td>\n",
              "      <td>0</td>\n",
              "      <td>0</td>\n",
              "      <td>0</td>\n",
              "      <td>0</td>\n",
              "      <td>0</td>\n",
              "      <td>0</td>\n",
              "      <td>4</td>\n",
              "    </tr>\n",
              "    <tr>\n",
              "      <th>2</th>\n",
              "      <td>6</td>\n",
              "      <td>1</td>\n",
              "      <td>E1</td>\n",
              "      <td>26</td>\n",
              "      <td>0.08</td>\n",
              "      <td>2</td>\n",
              "      <td>3</td>\n",
              "      <td>1</td>\n",
              "      <td>0.03</td>\n",
              "      <td>0.75</td>\n",
              "      <td>0.29</td>\n",
              "      <td>0.43</td>\n",
              "      <td>0.03</td>\n",
              "      <td>9</td>\n",
              "      <td>1</td>\n",
              "      <td>0.00</td>\n",
              "      <td>2</td>\n",
              "      <td>0.03</td>\n",
              "      <td>1</td>\n",
              "      <td>2</td>\n",
              "      <td>8</td>\n",
              "      <td>3</td>\n",
              "      <td>1</td>\n",
              "      <td>1</td>\n",
              "      <td>1</td>\n",
              "      <td>2</td>\n",
              "      <td>1</td>\n",
              "      <td>1</td>\n",
              "      <td>3</td>\n",
              "      <td>nan</td>\n",
              "      <td>3</td>\n",
              "      <td>2</td>\n",
              "      <td>3</td>\n",
              "      <td>3</td>\n",
              "      <td>0.30</td>\n",
              "      <td>nan</td>\n",
              "      <td>0.23</td>\n",
              "      <td>nan</td>\n",
              "      <td>10.00</td>\n",
              "      <td>3</td>\n",
              "      <td>...</td>\n",
              "      <td>0</td>\n",
              "      <td>0</td>\n",
              "      <td>0</td>\n",
              "      <td>0</td>\n",
              "      <td>0</td>\n",
              "      <td>0</td>\n",
              "      <td>0</td>\n",
              "      <td>0</td>\n",
              "      <td>0</td>\n",
              "      <td>0</td>\n",
              "      <td>0</td>\n",
              "      <td>0</td>\n",
              "      <td>0</td>\n",
              "      <td>0</td>\n",
              "      <td>0</td>\n",
              "      <td>0</td>\n",
              "      <td>0</td>\n",
              "      <td>0</td>\n",
              "      <td>0</td>\n",
              "      <td>0</td>\n",
              "      <td>0</td>\n",
              "      <td>0</td>\n",
              "      <td>0</td>\n",
              "      <td>0</td>\n",
              "      <td>0</td>\n",
              "      <td>0</td>\n",
              "      <td>0</td>\n",
              "      <td>0</td>\n",
              "      <td>0</td>\n",
              "      <td>0</td>\n",
              "      <td>0</td>\n",
              "      <td>0</td>\n",
              "      <td>0</td>\n",
              "      <td>0</td>\n",
              "      <td>0</td>\n",
              "      <td>0</td>\n",
              "      <td>0</td>\n",
              "      <td>0</td>\n",
              "      <td>0</td>\n",
              "      <td>8</td>\n",
              "    </tr>\n",
              "    <tr>\n",
              "      <th>3</th>\n",
              "      <td>7</td>\n",
              "      <td>1</td>\n",
              "      <td>D4</td>\n",
              "      <td>10</td>\n",
              "      <td>0.49</td>\n",
              "      <td>2</td>\n",
              "      <td>3</td>\n",
              "      <td>1</td>\n",
              "      <td>0.16</td>\n",
              "      <td>0.67</td>\n",
              "      <td>0.21</td>\n",
              "      <td>0.35</td>\n",
              "      <td>0.04</td>\n",
              "      <td>9</td>\n",
              "      <td>1</td>\n",
              "      <td>0.00</td>\n",
              "      <td>3</td>\n",
              "      <td>0.20</td>\n",
              "      <td>2</td>\n",
              "      <td>2</td>\n",
              "      <td>8</td>\n",
              "      <td>3</td>\n",
              "      <td>1</td>\n",
              "      <td>2</td>\n",
              "      <td>1</td>\n",
              "      <td>2</td>\n",
              "      <td>1</td>\n",
              "      <td>1</td>\n",
              "      <td>3</td>\n",
              "      <td>nan</td>\n",
              "      <td>3</td>\n",
              "      <td>2</td>\n",
              "      <td>3</td>\n",
              "      <td>3</td>\n",
              "      <td>0.42</td>\n",
              "      <td>nan</td>\n",
              "      <td>0.35</td>\n",
              "      <td>nan</td>\n",
              "      <td>0.00</td>\n",
              "      <td>350</td>\n",
              "      <td>...</td>\n",
              "      <td>0</td>\n",
              "      <td>0</td>\n",
              "      <td>0</td>\n",
              "      <td>0</td>\n",
              "      <td>0</td>\n",
              "      <td>0</td>\n",
              "      <td>0</td>\n",
              "      <td>0</td>\n",
              "      <td>0</td>\n",
              "      <td>0</td>\n",
              "      <td>0</td>\n",
              "      <td>0</td>\n",
              "      <td>0</td>\n",
              "      <td>0</td>\n",
              "      <td>0</td>\n",
              "      <td>0</td>\n",
              "      <td>0</td>\n",
              "      <td>0</td>\n",
              "      <td>0</td>\n",
              "      <td>0</td>\n",
              "      <td>0</td>\n",
              "      <td>0</td>\n",
              "      <td>1</td>\n",
              "      <td>0</td>\n",
              "      <td>0</td>\n",
              "      <td>0</td>\n",
              "      <td>0</td>\n",
              "      <td>0</td>\n",
              "      <td>0</td>\n",
              "      <td>0</td>\n",
              "      <td>0</td>\n",
              "      <td>0</td>\n",
              "      <td>0</td>\n",
              "      <td>0</td>\n",
              "      <td>0</td>\n",
              "      <td>0</td>\n",
              "      <td>0</td>\n",
              "      <td>0</td>\n",
              "      <td>0</td>\n",
              "      <td>8</td>\n",
              "    </tr>\n",
              "    <tr>\n",
              "      <th>4</th>\n",
              "      <td>8</td>\n",
              "      <td>1</td>\n",
              "      <td>D2</td>\n",
              "      <td>26</td>\n",
              "      <td>0.23</td>\n",
              "      <td>2</td>\n",
              "      <td>3</td>\n",
              "      <td>1</td>\n",
              "      <td>0.42</td>\n",
              "      <td>0.65</td>\n",
              "      <td>0.23</td>\n",
              "      <td>0.42</td>\n",
              "      <td>0.03</td>\n",
              "      <td>9</td>\n",
              "      <td>1</td>\n",
              "      <td>0.00</td>\n",
              "      <td>2</td>\n",
              "      <td>0.05</td>\n",
              "      <td>1</td>\n",
              "      <td>2</td>\n",
              "      <td>6</td>\n",
              "      <td>3</td>\n",
              "      <td>1</td>\n",
              "      <td>2</td>\n",
              "      <td>1</td>\n",
              "      <td>2</td>\n",
              "      <td>1</td>\n",
              "      <td>1</td>\n",
              "      <td>3</td>\n",
              "      <td>nan</td>\n",
              "      <td>3</td>\n",
              "      <td>2</td>\n",
              "      <td>3</td>\n",
              "      <td>2</td>\n",
              "      <td>0.46</td>\n",
              "      <td>nan</td>\n",
              "      <td>0.41</td>\n",
              "      <td>nan</td>\n",
              "      <td>nan</td>\n",
              "      <td>162</td>\n",
              "      <td>...</td>\n",
              "      <td>0</td>\n",
              "      <td>0</td>\n",
              "      <td>0</td>\n",
              "      <td>0</td>\n",
              "      <td>0</td>\n",
              "      <td>0</td>\n",
              "      <td>0</td>\n",
              "      <td>0</td>\n",
              "      <td>0</td>\n",
              "      <td>0</td>\n",
              "      <td>0</td>\n",
              "      <td>0</td>\n",
              "      <td>0</td>\n",
              "      <td>0</td>\n",
              "      <td>0</td>\n",
              "      <td>0</td>\n",
              "      <td>0</td>\n",
              "      <td>0</td>\n",
              "      <td>0</td>\n",
              "      <td>0</td>\n",
              "      <td>0</td>\n",
              "      <td>0</td>\n",
              "      <td>0</td>\n",
              "      <td>0</td>\n",
              "      <td>0</td>\n",
              "      <td>0</td>\n",
              "      <td>0</td>\n",
              "      <td>0</td>\n",
              "      <td>0</td>\n",
              "      <td>0</td>\n",
              "      <td>0</td>\n",
              "      <td>0</td>\n",
              "      <td>0</td>\n",
              "      <td>0</td>\n",
              "      <td>0</td>\n",
              "      <td>0</td>\n",
              "      <td>0</td>\n",
              "      <td>0</td>\n",
              "      <td>0</td>\n",
              "      <td>8</td>\n",
              "    </tr>\n",
              "  </tbody>\n",
              "</table>\n",
              "<p>5 rows × 128 columns</p>\n",
              "</div>"
            ],
            "text/plain": [
              "   Id  Product_Info_1  ... Medical_Keyword_48  Response\n",
              "0   2               1  ...                  0         8\n",
              "1   5               1  ...                  0         4\n",
              "2   6               1  ...                  0         8\n",
              "3   7               1  ...                  0         8\n",
              "4   8               1  ...                  0         8\n",
              "\n",
              "[5 rows x 128 columns]"
            ]
          },
          "metadata": {
            "tags": []
          },
          "execution_count": 5
        }
      ]
    },
    {
      "cell_type": "markdown",
      "metadata": {
        "id": "tJuz1hzRUC13"
      },
      "source": [
        "#2. Data\n",
        " 데이터는 Train : Test = 3 : 1 비율로 분리되고 무작위 샘플링으로 이루어진다. Train data는 59,381명, 126개 변수로 구성된 transactional data(low level)이고 , Test data는 19,766명, 126개 변수로 구성된다. Normalized 변수의 범주는 다음과 같다. \n",
        "  * **ID** : 청약자의 고유 식별정보 \n",
        "  * **Product Information** 보험상품 : Info_1 ~ Info_7 \n",
        "  * **Insurance Age** 보험나이 \n",
        "  * **Height** 키 \n",
        "  * **Weight** 몸무게 \n",
        "  * **BMI** 체질량 지수 \n",
        "  * **Employment Information** 고용정보 : Info_1 ~ Info_6 \n",
        "  * **Insured Information** 보험정보 : Info_1 ~ Info_7\n",
        "  * **Insurance History** 보험내역 : Info_1 ~ Info_9\n",
        "  * **Family History** 가족력 : Info_1 ~ Info_5\n",
        "  * **Medical History** 기왕력 : Info_1 ~ Info_41\n",
        "  * **Medical Keyword** 메디컬 키워드 : Info_1 ~ Info_48 \n",
        "\n",
        "각 범주에는 class 별 여러 변수가 포함되어 있다. "
      ]
    },
    {
      "cell_type": "markdown",
      "metadata": {
        "id": "lihNgd4nKJC5"
      },
      "source": [
        "* 변수의 유형        \n",
        " Continuous, Categorical(명목형 및 순서형) 변수와 Dummy(이진형/지표형) 변수의 유형을 파악한다. 이과정은 모델링 과정에서 변수 선택 및 알고리즘의 선택에 도움이 된다.\n",
        "\n",
        " Continous 변수는 요약 통계량, 막대 그래프 및 밀도분포표를 사용하여 분석한다. 범주형 변수는 변수에 따른 결과를 추적하기 위하여 사건 발생률 차트를 사용하여 분석한다.     \n",
        "  "
      ]
    },
    {
      "cell_type": "code",
      "metadata": {
        "id": "le9Vx4KpKqco",
        "outputId": "f3b62366-7fa6-493d-bf9c-2b5f2d1dcd20",
        "colab": {
          "base_uri": "https://localhost:8080/",
          "height": 390
        }
      },
      "source": [
        "df = pd.DataFrame([\"Product Information\",\n",
        "\"Insurance Age\",\n",
        "\"Height\",\n",
        "\"Weight\", \n",
        "\"BMI\",\n",
        "\"Employment Information\",\n",
        "\"Insured Information\",\n",
        "\"Insurance History\",\n",
        "\"Family History\",\n",
        "\"Medical History\",\n",
        "\"Medical Keyword\"], columns = ['Variable_type'])\n",
        "\n",
        "df['Continous'] = [1,1,1,1,1,3,0,1,4,0,0]\n",
        "df['Categorical'] = [6,0,0,0,0,3,7,8,1,4,0]\n",
        "df['Dummy'] = [0,0,0,0,0,0,0,0,0,0,48]\n",
        "df['Total'] = df.iloc[:, 1:4].sum(axis=1)\n",
        "df"
      ],
      "execution_count": 6,
      "outputs": [
        {
          "output_type": "execute_result",
          "data": {
            "text/html": [
              "<div>\n",
              "<style scoped>\n",
              "    .dataframe tbody tr th:only-of-type {\n",
              "        vertical-align: middle;\n",
              "    }\n",
              "\n",
              "    .dataframe tbody tr th {\n",
              "        vertical-align: top;\n",
              "    }\n",
              "\n",
              "    .dataframe thead th {\n",
              "        text-align: right;\n",
              "    }\n",
              "</style>\n",
              "<table border=\"1\" class=\"dataframe\">\n",
              "  <thead>\n",
              "    <tr style=\"text-align: right;\">\n",
              "      <th></th>\n",
              "      <th>Variable_type</th>\n",
              "      <th>Continous</th>\n",
              "      <th>Categorical</th>\n",
              "      <th>Dummy</th>\n",
              "      <th>Total</th>\n",
              "    </tr>\n",
              "  </thead>\n",
              "  <tbody>\n",
              "    <tr>\n",
              "      <th>0</th>\n",
              "      <td>Product Information</td>\n",
              "      <td>1</td>\n",
              "      <td>6</td>\n",
              "      <td>0</td>\n",
              "      <td>7</td>\n",
              "    </tr>\n",
              "    <tr>\n",
              "      <th>1</th>\n",
              "      <td>Insurance Age</td>\n",
              "      <td>1</td>\n",
              "      <td>0</td>\n",
              "      <td>0</td>\n",
              "      <td>1</td>\n",
              "    </tr>\n",
              "    <tr>\n",
              "      <th>2</th>\n",
              "      <td>Height</td>\n",
              "      <td>1</td>\n",
              "      <td>0</td>\n",
              "      <td>0</td>\n",
              "      <td>1</td>\n",
              "    </tr>\n",
              "    <tr>\n",
              "      <th>3</th>\n",
              "      <td>Weight</td>\n",
              "      <td>1</td>\n",
              "      <td>0</td>\n",
              "      <td>0</td>\n",
              "      <td>1</td>\n",
              "    </tr>\n",
              "    <tr>\n",
              "      <th>4</th>\n",
              "      <td>BMI</td>\n",
              "      <td>1</td>\n",
              "      <td>0</td>\n",
              "      <td>0</td>\n",
              "      <td>1</td>\n",
              "    </tr>\n",
              "    <tr>\n",
              "      <th>5</th>\n",
              "      <td>Employment Information</td>\n",
              "      <td>3</td>\n",
              "      <td>3</td>\n",
              "      <td>0</td>\n",
              "      <td>6</td>\n",
              "    </tr>\n",
              "    <tr>\n",
              "      <th>6</th>\n",
              "      <td>Insured Information</td>\n",
              "      <td>0</td>\n",
              "      <td>7</td>\n",
              "      <td>0</td>\n",
              "      <td>7</td>\n",
              "    </tr>\n",
              "    <tr>\n",
              "      <th>7</th>\n",
              "      <td>Insurance History</td>\n",
              "      <td>1</td>\n",
              "      <td>8</td>\n",
              "      <td>0</td>\n",
              "      <td>9</td>\n",
              "    </tr>\n",
              "    <tr>\n",
              "      <th>8</th>\n",
              "      <td>Family History</td>\n",
              "      <td>4</td>\n",
              "      <td>1</td>\n",
              "      <td>0</td>\n",
              "      <td>5</td>\n",
              "    </tr>\n",
              "    <tr>\n",
              "      <th>9</th>\n",
              "      <td>Medical History</td>\n",
              "      <td>0</td>\n",
              "      <td>4</td>\n",
              "      <td>0</td>\n",
              "      <td>4</td>\n",
              "    </tr>\n",
              "    <tr>\n",
              "      <th>10</th>\n",
              "      <td>Medical Keyword</td>\n",
              "      <td>0</td>\n",
              "      <td>0</td>\n",
              "      <td>48</td>\n",
              "      <td>48</td>\n",
              "    </tr>\n",
              "  </tbody>\n",
              "</table>\n",
              "</div>"
            ],
            "text/plain": [
              "             Variable_type  Continous  Categorical  Dummy  Total\n",
              "0      Product Information          1            6      0      7\n",
              "1            Insurance Age          1            0      0      1\n",
              "2                   Height          1            0      0      1\n",
              "3                   Weight          1            0      0      1\n",
              "4                      BMI          1            0      0      1\n",
              "5   Employment Information          3            3      0      6\n",
              "6      Insured Information          0            7      0      7\n",
              "7        Insurance History          1            8      0      9\n",
              "8           Family History          4            1      0      5\n",
              "9          Medical History          0            4      0      4\n",
              "10         Medical Keyword          0            0     48     48"
            ]
          },
          "metadata": {
            "tags": []
          },
          "execution_count": 6
        }
      ]
    },
    {
      "cell_type": "markdown",
      "metadata": {
        "id": "0i_g--AEZ6Xt"
      },
      "source": [
        "#3. Missing Value Analysis"
      ]
    },
    {
      "cell_type": "markdown",
      "metadata": {
        "id": "9FkIyyGLLiku"
      },
      "source": [
        "* 데이터 처리의 예비 단계로, 결측값 비율이 높은 변수는 제거된다. 제거 임계값은 사용자가 결정하는 것이지만, 이 분석에서의 임계값은 30% 이다.  "
      ]
    },
    {
      "cell_type": "code",
      "metadata": {
        "id": "bPuagQnWLsNu",
        "outputId": "08f93cea-08a8-467b-de16-6533c8156d60",
        "colab": {
          "base_uri": "https://localhost:8080/",
          "height": 34
        }
      },
      "source": [
        "train.shape"
      ],
      "execution_count": 7,
      "outputs": [
        {
          "output_type": "execute_result",
          "data": {
            "text/plain": [
              "(59381, 128)"
            ]
          },
          "metadata": {
            "tags": []
          },
          "execution_count": 7
        }
      ]
    },
    {
      "cell_type": "code",
      "metadata": {
        "id": "hFEf27MPLiwV",
        "outputId": "1a947cdd-49d8-467a-8fdf-27f4df41e3a2",
        "colab": {
          "base_uri": "https://localhost:8080/",
          "height": 238
        }
      },
      "source": [
        "train.isnull().sum().sort_values(ascending=False).head(12)"
      ],
      "execution_count": 8,
      "outputs": [
        {
          "output_type": "execute_result",
          "data": {
            "text/plain": [
              "Medical_History_10     58824\n",
              "Medical_History_32     58274\n",
              "Medical_History_24     55580\n",
              "Medical_History_15     44596\n",
              "Family_Hist_5          41811\n",
              "Family_Hist_3          34241\n",
              "Family_Hist_2          28656\n",
              "Insurance_History_5    25396\n",
              "Family_Hist_4          19184\n",
              "Employment_Info_6      10854\n",
              "Medical_History_1       8889\n",
              "Employment_Info_4       6779\n",
              "dtype: int64"
            ]
          },
          "metadata": {
            "tags": []
          },
          "execution_count": 8
        }
      ]
    },
    {
      "cell_type": "code",
      "metadata": {
        "id": "7dCIRk_TMc2d",
        "outputId": "c77e3add-c84e-4406-a40b-49ba202da941",
        "colab": {
          "base_uri": "https://localhost:8080/",
          "height": 187
        }
      },
      "source": [
        "def missing_data(data):\n",
        "    total = data.isnull().sum()\n",
        "    percent = (data.isnull().sum()/data.isnull().count()*100)\n",
        "    tt = pd.concat([total, percent], axis=1, keys=['Total', 'Percent'])\n",
        "    types = []\n",
        "    for col in train.columns:\n",
        "        dtype = str(train[col].dtype)    \n",
        "        types.append(dtype)\n",
        "    tt['Types'] = types\n",
        "    return tt\n",
        "missing_data(train)['Percent'].sort_values(ascending=False).head(9)"
      ],
      "execution_count": 9,
      "outputs": [
        {
          "output_type": "execute_result",
          "data": {
            "text/plain": [
              "Medical_History_10    99.06\n",
              "Medical_History_32    98.14\n",
              "Medical_History_24    93.60\n",
              "Medical_History_15    75.10\n",
              "Family_Hist_5         70.41\n",
              "Family_Hist_3         57.66\n",
              "Family_Hist_2         48.26\n",
              "Insurance_History_5   42.77\n",
              "Family_Hist_4         32.31\n",
              "Name: Percent, dtype: float64"
            ]
          },
          "metadata": {
            "tags": []
          },
          "execution_count": 9
        }
      ]
    },
    {
      "cell_type": "code",
      "metadata": {
        "id": "ixfwRRa0OBx7",
        "outputId": "aa797b6f-5f02-435a-861c-06cff2e54692",
        "colab": {
          "base_uri": "https://localhost:8080/",
          "height": 34
        }
      },
      "source": [
        "train=train[train.columns[train.isnull().mean() <= 0.75]]\n",
        "train.shape"
      ],
      "execution_count": 10,
      "outputs": [
        {
          "output_type": "execute_result",
          "data": {
            "text/plain": [
              "(59381, 124)"
            ]
          },
          "metadata": {
            "tags": []
          },
          "execution_count": 10
        }
      ]
    },
    {
      "cell_type": "markdown",
      "metadata": {
        "id": "1WwlOmjDjvQO"
      },
      "source": [
        "* Label encoding"
      ]
    },
    {
      "cell_type": "code",
      "metadata": {
        "id": "8vV6MkILjyfe",
        "outputId": "4c7fb1b1-ca9a-4eed-b6fa-633b9b8b46b0",
        "colab": {
          "base_uri": "https://localhost:8080/",
          "height": 34
        }
      },
      "source": [
        "obj_train=list(train.select_dtypes(include=['object']).columns)\n",
        "obj_train"
      ],
      "execution_count": 12,
      "outputs": [
        {
          "output_type": "execute_result",
          "data": {
            "text/plain": [
              "['Product_Info_2']"
            ]
          },
          "metadata": {
            "tags": []
          },
          "execution_count": 12
        }
      ]
    },
    {
      "cell_type": "code",
      "metadata": {
        "id": "eFXjU4irj_3K"
      },
      "source": [
        "from sklearn.preprocessing import LabelEncoder\n",
        "le=LabelEncoder()\n",
        "train[obj_train]=le.fit_transform(train[obj_train])"
      ],
      "execution_count": 13,
      "outputs": []
    },
    {
      "cell_type": "markdown",
      "metadata": {
        "id": "TywFF1YQSfwr"
      },
      "source": [
        "#4. Analysing features"
      ]
    },
    {
      "cell_type": "markdown",
      "metadata": {
        "id": "9B_LInQZL6l2"
      },
      "source": [
        "* 요약통계          \n",
        "기계 학습 알고리즘 변수의 보다 쉬운 통합을 위해 [0, 1] 범위로 정규화한다. 요약 통계량은 기본 데이터 분포를 이해하고, box plot 및 density plot 을 통해 데이터를 시각화하는 데 도움이 된다."
      ]
    },
    {
      "cell_type": "markdown",
      "metadata": {
        "id": "-NPeJrfFv1UF"
      },
      "source": [
        "> Box plot 을 사용하면 특히 특이치와 관련하여 데이터 세트를 시각화할 수 있다.         \n",
        "> Density plot 은 평균, 표준 편차 및 첨도와 같은 통계 지표를 포함하여 분포의 특성을 시각화하는 데 도움이 된다. 또한 반응 변수와 어떤 관계가 있는지 시각적으로 확인할 수 있다. 예를 들면 다음과 같다. "
      ]
    },
    {
      "cell_type": "markdown",
      "metadata": {
        "id": "VzQ919IToQ2h"
      },
      "source": [
        "* Weight"
      ]
    },
    {
      "cell_type": "code",
      "metadata": {
        "id": "UeslMNqllStl",
        "outputId": "f038078f-9c58-42a3-9cf7-de85f5a10ae4",
        "colab": {
          "base_uri": "https://localhost:8080/",
          "height": 479
        }
      },
      "source": [
        "f, axes = plt.subplots(1, 2, figsize=(15,7))\n",
        "sns.boxplot(data = train['Wt'], orient = 'v', palette='YlGnBu', ax=axes[0])\n",
        "sns.distplot(train['Wt'], kde=True, ax=axes[1])"
      ],
      "execution_count": 14,
      "outputs": [
        {
          "output_type": "execute_result",
          "data": {
            "text/plain": [
              "<matplotlib.axes._subplots.AxesSubplot at 0x7fe8205e3978>"
            ]
          },
          "metadata": {
            "tags": []
          },
          "execution_count": 14
        },
        {
          "output_type": "stream",
          "text": [
            "findfont: Font family ['NanumBarunGothic'] not found. Falling back to DejaVu Sans.\n"
          ],
          "name": "stderr"
        },
        {
          "output_type": "display_data",
          "data": {
            "image/png": "[encoded data removed]",
            "text/plain": [
              "<Figure size 1080x504 with 2 Axes>"
            ]
          },
          "metadata": {
            "tags": [],
            "needs_background": "light"
          }
        }
      ]
    },
    {
      "cell_type": "markdown",
      "metadata": {
        "id": "zo3HT4waoW97"
      },
      "source": [
        "* Height"
      ]
    },
    {
      "cell_type": "code",
      "metadata": {
        "id": "xyOzcaGRoaGQ",
        "outputId": "9c12280d-46cf-4ebf-e874-15fcbff09f7f",
        "colab": {
          "base_uri": "https://localhost:8080/",
          "height": 459
        }
      },
      "source": [
        "f, axes = plt.subplots(1, 2, figsize=(15,7))\n",
        "sns.boxplot(data = train['Ht'], orient = 'v', palette='YlGnBu', ax=axes[0])\n",
        "sns.distplot(train['Ht'], kde=True, ax=axes[1])"
      ],
      "execution_count": 15,
      "outputs": [
        {
          "output_type": "execute_result",
          "data": {
            "text/plain": [
              "<matplotlib.axes._subplots.AxesSubplot at 0x7fe81d7c12e8>"
            ]
          },
          "metadata": {
            "tags": []
          },
          "execution_count": 15
        },
        {
          "output_type": "display_data",
          "data": {
            "image/png": "[encoded data removed]",
            "text/plain": [
              "<Figure size 1080x504 with 2 Axes>"
            ]
          },
          "metadata": {
            "tags": [],
            "needs_background": "light"
          }
        }
      ]
    },
    {
      "cell_type": "markdown",
      "metadata": {
        "id": "-X2Ffl2apFyb"
      },
      "source": [
        "* BMI"
      ]
    },
    {
      "cell_type": "code",
      "metadata": {
        "id": "HSSwcnqnslJO",
        "outputId": "54ef4a7d-d8e9-4235-9024-bdca77b93bd7",
        "colab": {
          "base_uri": "https://localhost:8080/",
          "height": 459
        }
      },
      "source": [
        "f, axes = plt.subplots(1, 2, figsize=(15,7))\n",
        "sns.boxplot(data = train['BMI'], orient = 'v', palette='YlGnBu', ax=axes[0])\n",
        "sns.distplot(train['BMI'], kde=True, ax=axes[1])"
      ],
      "execution_count": 16,
      "outputs": [
        {
          "output_type": "execute_result",
          "data": {
            "text/plain": [
              "<matplotlib.axes._subplots.AxesSubplot at 0x7fe81d6f1c88>"
            ]
          },
          "metadata": {
            "tags": []
          },
          "execution_count": 16
        },
        {
          "output_type": "display_data",
          "data": {
            "image/png": "[encoded data removed]",
            "text/plain": [
              "<Figure size 1080x504 with 2 Axes>"
            ]
          },
          "metadata": {
            "tags": [],
            "needs_background": "light"
          }
        }
      ]
    },
    {
      "cell_type": "markdown",
      "metadata": {
        "id": "ndgkmcuVwAPx"
      },
      "source": [
        "* Ins_Age"
      ]
    },
    {
      "cell_type": "code",
      "metadata": {
        "id": "CfQsGCYCpJ_t",
        "outputId": "ca31e2e5-40f4-4423-8501-1d05b91659e8",
        "colab": {
          "base_uri": "https://localhost:8080/",
          "height": 460
        }
      },
      "source": [
        "f, axes = plt.subplots(1, 2, figsize=(15,7))\n",
        "sns.boxplot(data = train['Ins_Age'], orient = 'v', palette='YlGnBu', ax=axes[0])\n",
        "sns.distplot(train['Ins_Age'], kde=True, ax=axes[1])"
      ],
      "execution_count": 17,
      "outputs": [
        {
          "output_type": "execute_result",
          "data": {
            "text/plain": [
              "<matplotlib.axes._subplots.AxesSubplot at 0x7fe81d550128>"
            ]
          },
          "metadata": {
            "tags": []
          },
          "execution_count": 17
        },
        {
          "output_type": "display_data",
          "data": {
            "image/png": "[encoded data removed]",
            "text/plain": [
              "<Figure size 1080x504 with 2 Axes>"
            ]
          },
          "metadata": {
            "tags": [],
            "needs_background": "light"
          }
        }
      ]
    },
    {
      "cell_type": "markdown",
      "metadata": {
        "id": "IVFrot5fW5-U"
      },
      "source": [
        "* Employment_Info_1"
      ]
    },
    {
      "cell_type": "code",
      "metadata": {
        "id": "kbxMPfR6WC5o",
        "outputId": "42a61236-4278-4823-ba90-d8efffe23eb3",
        "colab": {
          "base_uri": "https://localhost:8080/",
          "height": 460
        }
      },
      "source": [
        "f, axes = plt.subplots(1, 2, figsize=(15,7))\n",
        "sns.boxplot(data = train['Employment_Info_1'], orient = 'v', palette='YlGnBu', ax=axes[0])\n",
        "sns.distplot(train['Employment_Info_1'], kde=True, ax=axes[1])"
      ],
      "execution_count": null,
      "outputs": [
        {
          "output_type": "execute_result",
          "data": {
            "text/plain": [
              "<matplotlib.axes._subplots.AxesSubplot at 0x7fe81d41e400>"
            ]
          },
          "metadata": {
            "tags": []
          },
          "execution_count": 19
        },
        {
          "output_type": "display_data",
          "data": {
            "image/png": "[encoded data removed]",
            "text/plain": [
              "<Figure size 1080x504 with 2 Axes>"
            ]
          },
          "metadata": {
            "tags": [],
            "needs_background": "light"
          }
        }
      ]
    },
    {
      "cell_type": "markdown",
      "metadata": {
        "id": "9PXyJXqEW1P4"
      },
      "source": [
        "* Employment_Info_4"
      ]
    },
    {
      "cell_type": "code",
      "metadata": {
        "id": "LNAlPs6IWSR4",
        "outputId": "23af07b5-4c4e-4228-8df0-4973d399315c",
        "colab": {
          "base_uri": "https://localhost:8080/",
          "height": 460
        }
      },
      "source": [
        "f, axes = plt.subplots(1, 2, figsize=(15,7))\n",
        "sns.boxplot(data = train['Employment_Info_4'], orient = 'v', palette='YlGnBu', ax=axes[0])\n",
        "sns.distplot(train['Employment_Info_4'], kde=True, ax=axes[1])"
      ],
      "execution_count": 20,
      "outputs": [
        {
          "output_type": "execute_result",
          "data": {
            "text/plain": [
              "<matplotlib.axes._subplots.AxesSubplot at 0x7fe81d2e8438>"
            ]
          },
          "metadata": {
            "tags": []
          },
          "execution_count": 20
        },
        {
          "output_type": "display_data",
          "data": {
            "image/png": "[encoded data removed]",
            "text/plain": [
              "<Figure size 1080x504 with 2 Axes>"
            ]
          },
          "metadata": {
            "tags": [],
            "needs_background": "light"
          }
        }
      ]
    },
    {
      "cell_type": "markdown",
      "metadata": {
        "id": "IiBo8w6CW-z0"
      },
      "source": [
        "* Employment_Info_6"
      ]
    },
    {
      "cell_type": "code",
      "metadata": {
        "id": "CnSLSbYZWXB7",
        "outputId": "d8c62474-915f-4a5d-e3c1-365ede3c6123",
        "colab": {
          "base_uri": "https://localhost:8080/",
          "height": 460
        }
      },
      "source": [
        "f, axes = plt.subplots(1, 2, figsize=(15,7))\n",
        "sns.boxplot(data = train['Employment_Info_6'], orient = 'v', palette='YlGnBu', ax=axes[0])\n",
        "sns.distplot(train['Employment_Info_6'], kde=True, ax=axes[1])"
      ],
      "execution_count": 22,
      "outputs": [
        {
          "output_type": "execute_result",
          "data": {
            "text/plain": [
              "<matplotlib.axes._subplots.AxesSubplot at 0x7fe81d1a7f98>"
            ]
          },
          "metadata": {
            "tags": []
          },
          "execution_count": 22
        },
        {
          "output_type": "display_data",
          "data": {
            "image/png": "[encoded data removed]",
            "text/plain": [
              "<Figure size 1080x504 with 2 Axes>"
            ]
          },
          "metadata": {
            "tags": [],
            "needs_background": "light"
          }
        }
      ]
    },
    {
      "cell_type": "code",
      "metadata": {
        "id": "Mq31vOzIWg5h",
        "outputId": "0e9a1b92-29df-4cde-ef50-992dea852c9d",
        "colab": {
          "base_uri": "https://localhost:8080/",
          "height": 460
        }
      },
      "source": [
        "f, axes = plt.subplots(1, 2, figsize=(15,7))\n",
        "sns.boxplot(data = train['Product_Info_4'], orient = 'v', palette='YlGnBu', ax=axes[0])\n",
        "sns.distplot(train['Product_Info_4'], kde=True, ax=axes[1])"
      ],
      "execution_count": 23,
      "outputs": [
        {
          "output_type": "execute_result",
          "data": {
            "text/plain": [
              "<matplotlib.axes._subplots.AxesSubplot at 0x7fe81dca9d30>"
            ]
          },
          "metadata": {
            "tags": []
          },
          "execution_count": 23
        },
        {
          "output_type": "display_data",
          "data": {
            "image/png": "[encoded data removed]",
            "text/plain": [
              "<Figure size 1080x504 with 2 Axes>"
            ]
          },
          "metadata": {
            "tags": [],
            "needs_background": "light"
          }
        }
      ]
    },
    {
      "cell_type": "markdown",
      "metadata": {
        "id": "B0U82ZSlj8nj"
      },
      "source": [
        "* 결측값 처리"
      ]
    },
    {
      "cell_type": "code",
      "metadata": {
        "id": "SDTwyW-ik4Qt",
        "outputId": "e9d4f1eb-847a-49fe-e309-870cd956d08d",
        "colab": {
          "base_uri": "https://localhost:8080/",
          "height": 297
        }
      },
      "source": [
        "train.loc[:,['Employment_Info_1','Employment_Info_4','Employment_Info_6']].describe()"
      ],
      "execution_count": 38,
      "outputs": [
        {
          "output_type": "execute_result",
          "data": {
            "text/html": [
              "<div>\n",
              "<style scoped>\n",
              "    .dataframe tbody tr th:only-of-type {\n",
              "        vertical-align: middle;\n",
              "    }\n",
              "\n",
              "    .dataframe tbody tr th {\n",
              "        vertical-align: top;\n",
              "    }\n",
              "\n",
              "    .dataframe thead th {\n",
              "        text-align: right;\n",
              "    }\n",
              "</style>\n",
              "<table border=\"1\" class=\"dataframe\">\n",
              "  <thead>\n",
              "    <tr style=\"text-align: right;\">\n",
              "      <th></th>\n",
              "      <th>Employment_Info_1</th>\n",
              "      <th>Employment_Info_4</th>\n",
              "      <th>Employment_Info_6</th>\n",
              "    </tr>\n",
              "  </thead>\n",
              "  <tbody>\n",
              "    <tr>\n",
              "      <th>count</th>\n",
              "      <td>59381.00</td>\n",
              "      <td>59381.00</td>\n",
              "      <td>59381.00</td>\n",
              "    </tr>\n",
              "    <tr>\n",
              "      <th>mean</th>\n",
              "      <td>0.08</td>\n",
              "      <td>0.01</td>\n",
              "      <td>0.34</td>\n",
              "    </tr>\n",
              "    <tr>\n",
              "      <th>std</th>\n",
              "      <td>0.08</td>\n",
              "      <td>0.03</td>\n",
              "      <td>0.32</td>\n",
              "    </tr>\n",
              "    <tr>\n",
              "      <th>min</th>\n",
              "      <td>0.00</td>\n",
              "      <td>0.00</td>\n",
              "      <td>0.00</td>\n",
              "    </tr>\n",
              "    <tr>\n",
              "      <th>25%</th>\n",
              "      <td>0.04</td>\n",
              "      <td>0.00</td>\n",
              "      <td>0.10</td>\n",
              "    </tr>\n",
              "    <tr>\n",
              "      <th>50%</th>\n",
              "      <td>0.06</td>\n",
              "      <td>0.00</td>\n",
              "      <td>0.25</td>\n",
              "    </tr>\n",
              "    <tr>\n",
              "      <th>75%</th>\n",
              "      <td>0.10</td>\n",
              "      <td>0.00</td>\n",
              "      <td>0.50</td>\n",
              "    </tr>\n",
              "    <tr>\n",
              "      <th>max</th>\n",
              "      <td>1.00</td>\n",
              "      <td>1.00</td>\n",
              "      <td>1.00</td>\n",
              "    </tr>\n",
              "  </tbody>\n",
              "</table>\n",
              "</div>"
            ],
            "text/plain": [
              "       Employment_Info_1  Employment_Info_4  Employment_Info_6\n",
              "count           59381.00           59381.00           59381.00\n",
              "mean                0.08               0.01               0.34\n",
              "std                 0.08               0.03               0.32\n",
              "min                 0.00               0.00               0.00\n",
              "25%                 0.04               0.00               0.10\n",
              "50%                 0.06               0.00               0.25\n",
              "75%                 0.10               0.00               0.50\n",
              "max                 1.00               1.00               1.00"
            ]
          },
          "metadata": {
            "tags": []
          },
          "execution_count": 38
        }
      ]
    },
    {
      "cell_type": "code",
      "metadata": {
        "id": "K7Jn8q_9kCf9"
      },
      "source": [
        "list_train = ['Employment_Info_1','Employment_Info_4','Employment_Info_6']\n",
        "for column in list_train:\n",
        "    train[column].fillna(train[column].mean(), inplace=True)"
      ],
      "execution_count": 37,
      "outputs": []
    },
    {
      "cell_type": "markdown",
      "metadata": {
        "id": "5R9wNFvJk0mN"
      },
      "source": [
        "* Skewed distribution data analysis"
      ]
    },
    {
      "cell_type": "code",
      "metadata": {
        "id": "-6kIsLefoN4A",
        "outputId": "9a995b8f-93b0-441f-8f6e-fc3be9538a24",
        "colab": {
          "base_uri": "https://localhost:8080/",
          "height": 187
        }
      },
      "source": [
        "train.groupby('Response')['Employment_Info_4'].count().sort_values(ascending=False)"
      ],
      "execution_count": 53,
      "outputs": [
        {
          "output_type": "execute_result",
          "data": {
            "text/plain": [
              "Response\n",
              "8    19489\n",
              "6    11233\n",
              "7     8027\n",
              "2     6552\n",
              "1     6207\n",
              "5     5432\n",
              "4     1428\n",
              "3     1013\n",
              "Name: Employment_Info_4, dtype: int64"
            ]
          },
          "metadata": {
            "tags": []
          },
          "execution_count": 53
        }
      ]
    },
    {
      "cell_type": "code",
      "metadata": {
        "id": "Q9tN2SmnqxhG",
        "outputId": "ff9e994b-0ce5-4bbf-8c6b-5090f8c6408c",
        "colab": {
          "base_uri": "https://localhost:8080/",
          "height": 187
        }
      },
      "source": [
        "emp0 = train.loc[train['Employment_Info_4'] < 0.1, ['Employment_Info_4','Response']]\n",
        "emp0.groupby('Response')['Employment_Info_4'].count().sort_values(ascending=False)"
      ],
      "execution_count": 73,
      "outputs": [
        {
          "output_type": "execute_result",
          "data": {
            "text/plain": [
              "Response\n",
              "8    19233\n",
              "6    11091\n",
              "7     7918\n",
              "2     6472\n",
              "1     6102\n",
              "5     5394\n",
              "4     1422\n",
              "3     1005\n",
              "Name: Employment_Info_4, dtype: int64"
            ]
          },
          "metadata": {
            "tags": []
          },
          "execution_count": 73
        }
      ]
    },
    {
      "cell_type": "code",
      "metadata": {
        "id": "xh0ZPk3BtO1f",
        "outputId": "74b6f99b-df53-4e1b-ee63-601a7b8b7389",
        "colab": {
          "base_uri": "https://localhost:8080/",
          "height": 238
        }
      },
      "source": [
        "age0 = train.loc[train['Employment_Info_4'] < 0.1, ['Employment_Info_4','Ins_Age']]\n",
        "age0.groupby('Ins_Age')['Employment_Info_4'].count().sort_values(ascending=False)"
      ],
      "execution_count": 76,
      "outputs": [
        {
          "output_type": "execute_result",
          "data": {
            "text/plain": [
              "Ins_Age\n",
              "0.54    1539\n",
              "0.52    1531\n",
              "0.45    1530\n",
              "0.22    1491\n",
              "0.19    1473\n",
              "        ... \n",
              "0.90      17\n",
              "0.91      10\n",
              "0.93       3\n",
              "0.97       1\n",
              "1.00       1\n",
              "Name: Employment_Info_4, Length: 65, dtype: int64"
            ]
          },
          "metadata": {
            "tags": []
          },
          "execution_count": 76
        }
      ]
    },
    {
      "cell_type": "code",
      "metadata": {
        "id": "VdkJ81BMs0kC",
        "outputId": "e26adc4b-d93d-4100-b012-2a6a914b2e7a",
        "colab": {
          "base_uri": "https://localhost:8080/",
          "height": 187
        }
      },
      "source": [
        "emp1 = train.loc[train['Employment_Info_4'] > 0.1, ['Employment_Info_4','Response']]\n",
        "emp1.groupby('Response')['Employment_Info_4'].count().sort_values(ascending=False)"
      ],
      "execution_count": 74,
      "outputs": [
        {
          "output_type": "execute_result",
          "data": {
            "text/plain": [
              "Response\n",
              "8    190\n",
              "6    111\n",
              "7     86\n",
              "1     75\n",
              "2     56\n",
              "5     27\n",
              "3      6\n",
              "4      5\n",
              "Name: Employment_Info_4, dtype: int64"
            ]
          },
          "metadata": {
            "tags": []
          },
          "execution_count": 74
        }
      ]
    },
    {
      "cell_type": "code",
      "metadata": {
        "id": "93KvzzJmtdqm",
        "outputId": "d3b8f6c8-bec3-4529-93c7-0435df875c45",
        "colab": {
          "base_uri": "https://localhost:8080/",
          "height": 1000
        }
      },
      "source": [
        "age1 = train.loc[train['Employment_Info_4'] > 0.1, ['Employment_Info_4','Ins_Age']]\n",
        "age1.groupby('Ins_Age')['Employment_Info_4'].count().sort_values(ascending=False)"
      ],
      "execution_count": 77,
      "outputs": [
        {
          "output_type": "execute_result",
          "data": {
            "text/plain": [
              "Ins_Age\n",
              "0.69    27\n",
              "0.70    22\n",
              "0.57    19\n",
              "0.61    19\n",
              "0.58    18\n",
              "0.66    18\n",
              "0.49    17\n",
              "0.67    17\n",
              "0.52    16\n",
              "0.64    15\n",
              "0.45    15\n",
              "0.63    14\n",
              "0.51    14\n",
              "0.48    14\n",
              "0.28    14\n",
              "0.75    13\n",
              "0.37    13\n",
              "0.60    13\n",
              "0.73    13\n",
              "0.54    12\n",
              "0.55    12\n",
              "0.43    12\n",
              "0.22    12\n",
              "0.46    12\n",
              "0.81    11\n",
              "0.36    11\n",
              "0.33    10\n",
              "0.78    10\n",
              "0.76    10\n",
              "0.30     9\n",
              "0.72     9\n",
              "0.27     8\n",
              "0.31     8\n",
              "0.24     8\n",
              "0.25     7\n",
              "0.40     7\n",
              "0.39     7\n",
              "0.18     7\n",
              "0.19     7\n",
              "0.79     7\n",
              "0.21     7\n",
              "0.16     6\n",
              "0.82     5\n",
              "0.42     5\n",
              "0.34     4\n",
              "0.84     4\n",
              "0.15     3\n",
              "0.85     2\n",
              "0.03     2\n",
              "0.10     2\n",
              "0.13     2\n",
              "0.06     1\n",
              "0.09     1\n",
              "0.91     1\n",
              "0.12     1\n",
              "0.90     1\n",
              "0.87     1\n",
              "0.00     1\n",
              "Name: Employment_Info_4, dtype: int64"
            ]
          },
          "metadata": {
            "tags": []
          },
          "execution_count": 77
        }
      ]
    },
    {
      "cell_type": "markdown",
      "metadata": {
        "id": "CldHtBdSwxQS"
      },
      "source": [
        "#4. Target Variable Analysis"
      ]
    },
    {
      "cell_type": "markdown",
      "metadata": {
        "id": "oKydFzIpZngV"
      },
      "source": [
        "* Response"
      ]
    },
    {
      "cell_type": "code",
      "metadata": {
        "id": "mUfcKd5YdC76",
        "outputId": "2c57af47-fc24-48a0-ffeb-36b44f317039",
        "colab": {
          "base_uri": "https://localhost:8080/",
          "height": 510
        }
      },
      "source": [
        "f,ax=plt.subplots(1,2,figsize=(18,8))\n",
        "train['Response'].value_counts().plot.pie(autopct='%1.1f%%',ax=ax[0],shadow=True)\n",
        "ax[0].set_title('Response')\n",
        "ax[0].set_ylabel('')\n",
        "sns.countplot('Response',data=train,ax=ax[1])\n",
        "ax[1].set_title('Response')\n",
        "plt.show()"
      ],
      "execution_count": 24,
      "outputs": [
        {
          "output_type": "stream",
          "text": [
            "findfont: Font family ['NanumBarunGothic'] not found. Falling back to DejaVu Sans.\n"
          ],
          "name": "stderr"
        },
        {
          "output_type": "display_data",
          "data": {
            "image/png": "[encoded data removed]",
            "text/plain": [
              "<Figure size 1296x576 with 2 Axes>"
            ]
          },
          "metadata": {
            "tags": [],
            "needs_background": "light"
          }
        }
      ]
    },
    {
      "cell_type": "markdown",
      "metadata": {
        "id": "CUfE-dZTZ-0R"
      },
      "source": [
        "* 사고 발생률 차트 \n",
        "  "
      ]
    },
    {
      "cell_type": "markdown",
      "metadata": {
        "id": "lwngZb2JZ-8m"
      },
      "source": [
        "* 상관관계표\n",
        "데이터 분석과 데이터 처리 후, 모델 개발 단계는 변수 감소일 것이다."
      ]
    },
    {
      "cell_type": "markdown",
      "metadata": {
        "id": "5tuuTT2sJXkV"
      },
      "source": [
        "#4. 변수 분석      \n",
        " "
      ]
    },
    {
      "cell_type": "markdown",
      "metadata": {
        "id": "gXF-6SspU6Nz"
      },
      "source": [
        "* 주성분 분석\n"
      ]
    },
    {
      "cell_type": "markdown",
      "metadata": {
        "id": "1lkxeQU3VxcV"
      },
      "source": [
        "* Boruta Classification Algorithm     \n",
        "Boruta는 연관성 있는 모든 특징 선택 wrapper algorithmn 이다. 이 방법은 원래 속성의 중요성과 무작위로 시행된 중요도를 비교하여 모든 관련있는 특징에 대하여 top-down 방식으로 수행된다. 관련성이 높은 특징 순서대로 복사본을 만들고, 관련 없는 특징들을 점진적으로 제거한다. 주성분 분석 이후의 모든 속성은 알고리즘에 의해 중요한 것으로 간주된다."
      ]
    },
    {
      "cell_type": "markdown",
      "metadata": {
        "id": "wp83Ph1nn4cW"
      },
      "source": [
        "#5. 방법론"
      ]
    },
    {
      "cell_type": "markdown",
      "metadata": {
        "id": "qaDI_iPHn7ja"
      },
      "source": [
        "* Multinominal Logic Model      \n",
        " 데이터를 두 부분으로 나누고 한 부분으로 모델을 예측하고 다른 부분은 모델 유효성 검사와 표본예측을 위해 사용한다.        \n",
        "\n",
        "\n",
        "\n"
      ]
    },
    {
      "cell_type": "markdown",
      "metadata": {
        "id": "CVI0Ti8Ev2Uh"
      },
      "source": [
        "\n",
        "\n",
        "> Train data 와 Test data 의 반응 분포를 살펴본다.\n",
        "\n"
      ]
    },
    {
      "cell_type": "markdown",
      "metadata": {
        "id": "E-_hnS_freC4"
      },
      "source": [
        "> Train & Test data의 분포 비교         \n",
        "분포는 두 부분에 대해 동일하므로 두 부분이 유사한 분포를 따른다고 가정한다."
      ]
    },
    {
      "cell_type": "markdown",
      "metadata": {
        "id": "QvHQo-rUrxOD"
      },
      "source": [
        "> Performance Metrics       \n",
        "Multinominal Logic Model의 Kappa score 는 0.3183794 이다."
      ]
    },
    {
      "cell_type": "markdown",
      "metadata": {
        "id": "2GZ3HwCRt6Jv"
      },
      "source": [
        "* Random Forest        \n",
        " 데이터를 두 부분으로 나누고 한 부분을 사용하여 모델을 예측하고 다른 부분은 모델 유효성 검사와 표본 예측을 위해 사용한다. 전체 데이터 세트를 예측에 사용할 것이다.        \n",
        " "
      ]
    },
    {
      "cell_type": "markdown",
      "metadata": {
        "id": "qDD1Sm2dwEBa"
      },
      "source": [
        "> Train data 와 Test data 의 반응 분포를 살펴본다.\n",
        "\n"
      ]
    },
    {
      "cell_type": "markdown",
      "metadata": {
        "id": "CmG6DJmZxlg2"
      },
      "source": [
        "> Train & Test data의 분포 비교         \n",
        " 분포는 두 부분에 대해 동일하므로 두 부분이 유사한 분포를 따른다고 가정한다.    "
      ]
    },
    {
      "cell_type": "markdown",
      "metadata": {
        "id": "YJ6atfmW0Uzy"
      },
      "source": [
        "> Performance Metrics           \n",
        " Random Forest의 Kappa Score는 0.4744071이다.           \n",
        "Random Forest 예측에 사용되는 Rattel plot(or tree) 은 다음과 같다."
      ]
    },
    {
      "cell_type": "markdown",
      "metadata": {
        "id": "ML7IfnPJ0fOv"
      },
      "source": [
        "* XGBoost            \n",
        "XGBoost는 \"Extreme Gradient Boosting\"의 줄임말로, 여기서 \"Gradient Boosting\"이라는 용어는 Greedy function approximation 논문에서 제안했다 : Gradient Boosting machine, by Friedman.       \n",
        "XGBoost는 이 original model 을 기반으로 한다. XGBoost는 학습 문제를 관라하는 데 자주 사용되는데, training data(with multiple features, xi)를 사용하여 target variable(yi)을 예측하는데 사용된다."
      ]
    },
    {
      "cell_type": "code",
      "metadata": {
        "id": "YGyx6iiD_Wx1"
      },
      "source": [
        ""
      ],
      "execution_count": 24,
      "outputs": []
    }
  ]
}