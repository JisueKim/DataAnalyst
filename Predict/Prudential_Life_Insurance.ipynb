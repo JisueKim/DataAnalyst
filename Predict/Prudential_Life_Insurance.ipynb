{
  "nbformat": 4,
  "nbformat_minor": 0,
  "metadata": {
    "colab": {
      "name": "Prudential Life Insurance.ipynb",
      "provenance": [],
      "collapsed_sections": []
    },
    "kernelspec": {
      "name": "python3",
      "display_name": "Python 3"
    }
  },
  "cells": [
    {
      "cell_type": "markdown",
      "metadata": {
        "id": "C9c4pbuqKni_"
      },
      "source": [
        "# Prudential life insurance      \n",
        "데이터셋 - Kaggle      \n",
        "형태 - 파일데이터(csv)       \n",
        "다운로드 - https://www.kaggle.com/c/prudential-life-insurance-assessment      "
      ]
    },
    {
      "cell_type": "markdown",
      "metadata": {
        "id": "re3uoAPWTF1s"
      },
      "source": [
        "# 1. Introduction\n",
        "\n",
        "미국 최대의 생명 보험회사 푸르덴셜에서 5년전 제공한 데이터 셋입니다. 이 데이터 세트에는 생명 보험 신청자의 속성을 설명하는 100 개 이상의 변수가 제공됩니다. 테스트 세트의 각 ID에 대한 \"Response\"변수를 예측하는 것입니다. \"Response\"은 8 단계의 위험 분류 입니다.\n",
        "\n",
        "생명보험 청약 프로세스는 평균 30 일 이내에 건강 검진을 포함하여 위험 분류 및 적격성을 식별하기 위해 광범위한 정보를 바탕으로 진행됩니다. 이러한 이유로 미국 가구의 40 %만이 개인 생명 보험을 소유하고 있습니다. 푸르덴셜은 신규 및 기존 고객이 프라이버시 경계를 유지하면서 청약 프로세스를 신속하고 비용 효과적으로 만들고자 합니다. \n",
        "\n",
        "향상된 자동화 방식을 사용하여 위험을 정확하게 분류하는 예측 모델을 개발함으로써 업계에 대한 대중의 인식에 큰 영향을 미칠 수 있을 것입니다. "
      ]
    },
    {
      "cell_type": "code",
      "metadata": {
        "id": "KNz9SmIFTzmG"
      },
      "source": [
        "import pandas as pd\n",
        "import numpy as np\n",
        "import matplotlib.pyplot as plt\n",
        "import seaborn as sns\n",
        "import warnings\n",
        "\n",
        "\n",
        "warnings.filterwarnings('ignore')\n",
        "plt.rc('font', family='NanumBarunGothic') \n",
        "plt.rcParams['figure.figsize'] = (10, 7)\n",
        "\n",
        "pd.set_option('display.float_format', lambda x: '%.2f' % x)\n",
        "\n",
        "%matplotlib inline "
      ],
      "execution_count": 1,
      "outputs": []
    },
    {
      "cell_type": "code",
      "metadata": {
        "id": "wRGTf6poT3vM",
        "outputId": "65bd291d-19ff-4228-8d32-dafc70ded720",
        "colab": {
          "base_uri": "https://localhost:8080/",
          "height": 54
        }
      },
      "source": [
        "from google.colab import drive\n",
        "drive.mount('/content/drive')"
      ],
      "execution_count": 2,
      "outputs": [
        {
          "output_type": "stream",
          "text": [
            "Drive already mounted at /content/drive; to attempt to forcibly remount, call drive.mount(\"/content/drive\", force_remount=True).\n"
          ],
          "name": "stdout"
        }
      ]
    },
    {
      "cell_type": "code",
      "metadata": {
        "id": "6Mk3wSiCT9_K"
      },
      "source": [
        "filename = '/content/sample_data/train.csv'\n",
        "train = pd.read_csv(filename)"
      ],
      "execution_count": 3,
      "outputs": []
    },
    {
      "cell_type": "code",
      "metadata": {
        "id": "0ceMMeweU0Mg",
        "outputId": "efc749d8-8fcc-44a2-9f07-5f4a2f645249",
        "colab": {
          "base_uri": "https://localhost:8080/",
          "height": 253
        }
      },
      "source": [
        "train.head()"
      ],
      "execution_count": 4,
      "outputs": [
        {
          "output_type": "execute_result",
          "data": {
            "text/html": [
              "<div>\n",
              "<style scoped>\n",
              "    .dataframe tbody tr th:only-of-type {\n",
              "        vertical-align: middle;\n",
              "    }\n",
              "\n",
              "    .dataframe tbody tr th {\n",
              "        vertical-align: top;\n",
              "    }\n",
              "\n",
              "    .dataframe thead th {\n",
              "        text-align: right;\n",
              "    }\n",
              "</style>\n",
              "<table border=\"1\" class=\"dataframe\">\n",
              "  <thead>\n",
              "    <tr style=\"text-align: right;\">\n",
              "      <th></th>\n",
              "      <th>Id</th>\n",
              "      <th>Product_Info_1</th>\n",
              "      <th>Product_Info_2</th>\n",
              "      <th>Product_Info_3</th>\n",
              "      <th>Product_Info_4</th>\n",
              "      <th>Product_Info_5</th>\n",
              "      <th>Product_Info_6</th>\n",
              "      <th>Product_Info_7</th>\n",
              "      <th>Ins_Age</th>\n",
              "      <th>Ht</th>\n",
              "      <th>Wt</th>\n",
              "      <th>BMI</th>\n",
              "      <th>Employment_Info_1</th>\n",
              "      <th>Employment_Info_2</th>\n",
              "      <th>Employment_Info_3</th>\n",
              "      <th>Employment_Info_4</th>\n",
              "      <th>Employment_Info_5</th>\n",
              "      <th>Employment_Info_6</th>\n",
              "      <th>InsuredInfo_1</th>\n",
              "      <th>InsuredInfo_2</th>\n",
              "      <th>InsuredInfo_3</th>\n",
              "      <th>InsuredInfo_4</th>\n",
              "      <th>InsuredInfo_5</th>\n",
              "      <th>InsuredInfo_6</th>\n",
              "      <th>InsuredInfo_7</th>\n",
              "      <th>Insurance_History_1</th>\n",
              "      <th>Insurance_History_2</th>\n",
              "      <th>Insurance_History_3</th>\n",
              "      <th>Insurance_History_4</th>\n",
              "      <th>Insurance_History_5</th>\n",
              "      <th>Insurance_History_7</th>\n",
              "      <th>Insurance_History_8</th>\n",
              "      <th>Insurance_History_9</th>\n",
              "      <th>Family_Hist_1</th>\n",
              "      <th>Family_Hist_2</th>\n",
              "      <th>Family_Hist_3</th>\n",
              "      <th>Family_Hist_4</th>\n",
              "      <th>Family_Hist_5</th>\n",
              "      <th>Medical_History_1</th>\n",
              "      <th>Medical_History_2</th>\n",
              "      <th>...</th>\n",
              "      <th>Medical_Keyword_10</th>\n",
              "      <th>Medical_Keyword_11</th>\n",
              "      <th>Medical_Keyword_12</th>\n",
              "      <th>Medical_Keyword_13</th>\n",
              "      <th>Medical_Keyword_14</th>\n",
              "      <th>Medical_Keyword_15</th>\n",
              "      <th>Medical_Keyword_16</th>\n",
              "      <th>Medical_Keyword_17</th>\n",
              "      <th>Medical_Keyword_18</th>\n",
              "      <th>Medical_Keyword_19</th>\n",
              "      <th>Medical_Keyword_20</th>\n",
              "      <th>Medical_Keyword_21</th>\n",
              "      <th>Medical_Keyword_22</th>\n",
              "      <th>Medical_Keyword_23</th>\n",
              "      <th>Medical_Keyword_24</th>\n",
              "      <th>Medical_Keyword_25</th>\n",
              "      <th>Medical_Keyword_26</th>\n",
              "      <th>Medical_Keyword_27</th>\n",
              "      <th>Medical_Keyword_28</th>\n",
              "      <th>Medical_Keyword_29</th>\n",
              "      <th>Medical_Keyword_30</th>\n",
              "      <th>Medical_Keyword_31</th>\n",
              "      <th>Medical_Keyword_32</th>\n",
              "      <th>Medical_Keyword_33</th>\n",
              "      <th>Medical_Keyword_34</th>\n",
              "      <th>Medical_Keyword_35</th>\n",
              "      <th>Medical_Keyword_36</th>\n",
              "      <th>Medical_Keyword_37</th>\n",
              "      <th>Medical_Keyword_38</th>\n",
              "      <th>Medical_Keyword_39</th>\n",
              "      <th>Medical_Keyword_40</th>\n",
              "      <th>Medical_Keyword_41</th>\n",
              "      <th>Medical_Keyword_42</th>\n",
              "      <th>Medical_Keyword_43</th>\n",
              "      <th>Medical_Keyword_44</th>\n",
              "      <th>Medical_Keyword_45</th>\n",
              "      <th>Medical_Keyword_46</th>\n",
              "      <th>Medical_Keyword_47</th>\n",
              "      <th>Medical_Keyword_48</th>\n",
              "      <th>Response</th>\n",
              "    </tr>\n",
              "  </thead>\n",
              "  <tbody>\n",
              "    <tr>\n",
              "      <th>0</th>\n",
              "      <td>2</td>\n",
              "      <td>1</td>\n",
              "      <td>D3</td>\n",
              "      <td>10</td>\n",
              "      <td>0.08</td>\n",
              "      <td>2</td>\n",
              "      <td>1</td>\n",
              "      <td>1</td>\n",
              "      <td>0.64</td>\n",
              "      <td>0.58</td>\n",
              "      <td>0.15</td>\n",
              "      <td>0.32</td>\n",
              "      <td>0.03</td>\n",
              "      <td>12</td>\n",
              "      <td>1</td>\n",
              "      <td>0.00</td>\n",
              "      <td>3</td>\n",
              "      <td>nan</td>\n",
              "      <td>1</td>\n",
              "      <td>2</td>\n",
              "      <td>6</td>\n",
              "      <td>3</td>\n",
              "      <td>1</td>\n",
              "      <td>2</td>\n",
              "      <td>1</td>\n",
              "      <td>1</td>\n",
              "      <td>1</td>\n",
              "      <td>3</td>\n",
              "      <td>1</td>\n",
              "      <td>0.00</td>\n",
              "      <td>1</td>\n",
              "      <td>1</td>\n",
              "      <td>2</td>\n",
              "      <td>2</td>\n",
              "      <td>nan</td>\n",
              "      <td>0.60</td>\n",
              "      <td>nan</td>\n",
              "      <td>0.53</td>\n",
              "      <td>4.00</td>\n",
              "      <td>112</td>\n",
              "      <td>...</td>\n",
              "      <td>0</td>\n",
              "      <td>0</td>\n",
              "      <td>0</td>\n",
              "      <td>0</td>\n",
              "      <td>0</td>\n",
              "      <td>0</td>\n",
              "      <td>0</td>\n",
              "      <td>0</td>\n",
              "      <td>0</td>\n",
              "      <td>0</td>\n",
              "      <td>0</td>\n",
              "      <td>0</td>\n",
              "      <td>0</td>\n",
              "      <td>0</td>\n",
              "      <td>0</td>\n",
              "      <td>0</td>\n",
              "      <td>0</td>\n",
              "      <td>0</td>\n",
              "      <td>0</td>\n",
              "      <td>0</td>\n",
              "      <td>0</td>\n",
              "      <td>0</td>\n",
              "      <td>0</td>\n",
              "      <td>0</td>\n",
              "      <td>0</td>\n",
              "      <td>0</td>\n",
              "      <td>0</td>\n",
              "      <td>0</td>\n",
              "      <td>0</td>\n",
              "      <td>0</td>\n",
              "      <td>0</td>\n",
              "      <td>0</td>\n",
              "      <td>0</td>\n",
              "      <td>0</td>\n",
              "      <td>0</td>\n",
              "      <td>0</td>\n",
              "      <td>0</td>\n",
              "      <td>0</td>\n",
              "      <td>0</td>\n",
              "      <td>8</td>\n",
              "    </tr>\n",
              "    <tr>\n",
              "      <th>1</th>\n",
              "      <td>5</td>\n",
              "      <td>1</td>\n",
              "      <td>A1</td>\n",
              "      <td>26</td>\n",
              "      <td>0.08</td>\n",
              "      <td>2</td>\n",
              "      <td>3</td>\n",
              "      <td>1</td>\n",
              "      <td>0.06</td>\n",
              "      <td>0.60</td>\n",
              "      <td>0.13</td>\n",
              "      <td>0.27</td>\n",
              "      <td>0.00</td>\n",
              "      <td>1</td>\n",
              "      <td>3</td>\n",
              "      <td>0.00</td>\n",
              "      <td>2</td>\n",
              "      <td>0.00</td>\n",
              "      <td>1</td>\n",
              "      <td>2</td>\n",
              "      <td>6</td>\n",
              "      <td>3</td>\n",
              "      <td>1</td>\n",
              "      <td>2</td>\n",
              "      <td>1</td>\n",
              "      <td>2</td>\n",
              "      <td>1</td>\n",
              "      <td>3</td>\n",
              "      <td>1</td>\n",
              "      <td>0.00</td>\n",
              "      <td>1</td>\n",
              "      <td>3</td>\n",
              "      <td>2</td>\n",
              "      <td>2</td>\n",
              "      <td>0.19</td>\n",
              "      <td>nan</td>\n",
              "      <td>0.08</td>\n",
              "      <td>nan</td>\n",
              "      <td>5.00</td>\n",
              "      <td>412</td>\n",
              "      <td>...</td>\n",
              "      <td>0</td>\n",
              "      <td>0</td>\n",
              "      <td>0</td>\n",
              "      <td>0</td>\n",
              "      <td>0</td>\n",
              "      <td>0</td>\n",
              "      <td>0</td>\n",
              "      <td>0</td>\n",
              "      <td>0</td>\n",
              "      <td>0</td>\n",
              "      <td>0</td>\n",
              "      <td>0</td>\n",
              "      <td>0</td>\n",
              "      <td>0</td>\n",
              "      <td>0</td>\n",
              "      <td>0</td>\n",
              "      <td>0</td>\n",
              "      <td>0</td>\n",
              "      <td>0</td>\n",
              "      <td>0</td>\n",
              "      <td>0</td>\n",
              "      <td>0</td>\n",
              "      <td>0</td>\n",
              "      <td>0</td>\n",
              "      <td>0</td>\n",
              "      <td>0</td>\n",
              "      <td>0</td>\n",
              "      <td>0</td>\n",
              "      <td>0</td>\n",
              "      <td>0</td>\n",
              "      <td>0</td>\n",
              "      <td>0</td>\n",
              "      <td>0</td>\n",
              "      <td>0</td>\n",
              "      <td>0</td>\n",
              "      <td>0</td>\n",
              "      <td>0</td>\n",
              "      <td>0</td>\n",
              "      <td>0</td>\n",
              "      <td>4</td>\n",
              "    </tr>\n",
              "    <tr>\n",
              "      <th>2</th>\n",
              "      <td>6</td>\n",
              "      <td>1</td>\n",
              "      <td>E1</td>\n",
              "      <td>26</td>\n",
              "      <td>0.08</td>\n",
              "      <td>2</td>\n",
              "      <td>3</td>\n",
              "      <td>1</td>\n",
              "      <td>0.03</td>\n",
              "      <td>0.75</td>\n",
              "      <td>0.29</td>\n",
              "      <td>0.43</td>\n",
              "      <td>0.03</td>\n",
              "      <td>9</td>\n",
              "      <td>1</td>\n",
              "      <td>0.00</td>\n",
              "      <td>2</td>\n",
              "      <td>0.03</td>\n",
              "      <td>1</td>\n",
              "      <td>2</td>\n",
              "      <td>8</td>\n",
              "      <td>3</td>\n",
              "      <td>1</td>\n",
              "      <td>1</td>\n",
              "      <td>1</td>\n",
              "      <td>2</td>\n",
              "      <td>1</td>\n",
              "      <td>1</td>\n",
              "      <td>3</td>\n",
              "      <td>nan</td>\n",
              "      <td>3</td>\n",
              "      <td>2</td>\n",
              "      <td>3</td>\n",
              "      <td>3</td>\n",
              "      <td>0.30</td>\n",
              "      <td>nan</td>\n",
              "      <td>0.23</td>\n",
              "      <td>nan</td>\n",
              "      <td>10.00</td>\n",
              "      <td>3</td>\n",
              "      <td>...</td>\n",
              "      <td>0</td>\n",
              "      <td>0</td>\n",
              "      <td>0</td>\n",
              "      <td>0</td>\n",
              "      <td>0</td>\n",
              "      <td>0</td>\n",
              "      <td>0</td>\n",
              "      <td>0</td>\n",
              "      <td>0</td>\n",
              "      <td>0</td>\n",
              "      <td>0</td>\n",
              "      <td>0</td>\n",
              "      <td>0</td>\n",
              "      <td>0</td>\n",
              "      <td>0</td>\n",
              "      <td>0</td>\n",
              "      <td>0</td>\n",
              "      <td>0</td>\n",
              "      <td>0</td>\n",
              "      <td>0</td>\n",
              "      <td>0</td>\n",
              "      <td>0</td>\n",
              "      <td>0</td>\n",
              "      <td>0</td>\n",
              "      <td>0</td>\n",
              "      <td>0</td>\n",
              "      <td>0</td>\n",
              "      <td>0</td>\n",
              "      <td>0</td>\n",
              "      <td>0</td>\n",
              "      <td>0</td>\n",
              "      <td>0</td>\n",
              "      <td>0</td>\n",
              "      <td>0</td>\n",
              "      <td>0</td>\n",
              "      <td>0</td>\n",
              "      <td>0</td>\n",
              "      <td>0</td>\n",
              "      <td>0</td>\n",
              "      <td>8</td>\n",
              "    </tr>\n",
              "    <tr>\n",
              "      <th>3</th>\n",
              "      <td>7</td>\n",
              "      <td>1</td>\n",
              "      <td>D4</td>\n",
              "      <td>10</td>\n",
              "      <td>0.49</td>\n",
              "      <td>2</td>\n",
              "      <td>3</td>\n",
              "      <td>1</td>\n",
              "      <td>0.16</td>\n",
              "      <td>0.67</td>\n",
              "      <td>0.21</td>\n",
              "      <td>0.35</td>\n",
              "      <td>0.04</td>\n",
              "      <td>9</td>\n",
              "      <td>1</td>\n",
              "      <td>0.00</td>\n",
              "      <td>3</td>\n",
              "      <td>0.20</td>\n",
              "      <td>2</td>\n",
              "      <td>2</td>\n",
              "      <td>8</td>\n",
              "      <td>3</td>\n",
              "      <td>1</td>\n",
              "      <td>2</td>\n",
              "      <td>1</td>\n",
              "      <td>2</td>\n",
              "      <td>1</td>\n",
              "      <td>1</td>\n",
              "      <td>3</td>\n",
              "      <td>nan</td>\n",
              "      <td>3</td>\n",
              "      <td>2</td>\n",
              "      <td>3</td>\n",
              "      <td>3</td>\n",
              "      <td>0.42</td>\n",
              "      <td>nan</td>\n",
              "      <td>0.35</td>\n",
              "      <td>nan</td>\n",
              "      <td>0.00</td>\n",
              "      <td>350</td>\n",
              "      <td>...</td>\n",
              "      <td>0</td>\n",
              "      <td>0</td>\n",
              "      <td>0</td>\n",
              "      <td>0</td>\n",
              "      <td>0</td>\n",
              "      <td>0</td>\n",
              "      <td>0</td>\n",
              "      <td>0</td>\n",
              "      <td>0</td>\n",
              "      <td>0</td>\n",
              "      <td>0</td>\n",
              "      <td>0</td>\n",
              "      <td>0</td>\n",
              "      <td>0</td>\n",
              "      <td>0</td>\n",
              "      <td>0</td>\n",
              "      <td>0</td>\n",
              "      <td>0</td>\n",
              "      <td>0</td>\n",
              "      <td>0</td>\n",
              "      <td>0</td>\n",
              "      <td>0</td>\n",
              "      <td>1</td>\n",
              "      <td>0</td>\n",
              "      <td>0</td>\n",
              "      <td>0</td>\n",
              "      <td>0</td>\n",
              "      <td>0</td>\n",
              "      <td>0</td>\n",
              "      <td>0</td>\n",
              "      <td>0</td>\n",
              "      <td>0</td>\n",
              "      <td>0</td>\n",
              "      <td>0</td>\n",
              "      <td>0</td>\n",
              "      <td>0</td>\n",
              "      <td>0</td>\n",
              "      <td>0</td>\n",
              "      <td>0</td>\n",
              "      <td>8</td>\n",
              "    </tr>\n",
              "    <tr>\n",
              "      <th>4</th>\n",
              "      <td>8</td>\n",
              "      <td>1</td>\n",
              "      <td>D2</td>\n",
              "      <td>26</td>\n",
              "      <td>0.23</td>\n",
              "      <td>2</td>\n",
              "      <td>3</td>\n",
              "      <td>1</td>\n",
              "      <td>0.42</td>\n",
              "      <td>0.65</td>\n",
              "      <td>0.23</td>\n",
              "      <td>0.42</td>\n",
              "      <td>0.03</td>\n",
              "      <td>9</td>\n",
              "      <td>1</td>\n",
              "      <td>0.00</td>\n",
              "      <td>2</td>\n",
              "      <td>0.05</td>\n",
              "      <td>1</td>\n",
              "      <td>2</td>\n",
              "      <td>6</td>\n",
              "      <td>3</td>\n",
              "      <td>1</td>\n",
              "      <td>2</td>\n",
              "      <td>1</td>\n",
              "      <td>2</td>\n",
              "      <td>1</td>\n",
              "      <td>1</td>\n",
              "      <td>3</td>\n",
              "      <td>nan</td>\n",
              "      <td>3</td>\n",
              "      <td>2</td>\n",
              "      <td>3</td>\n",
              "      <td>2</td>\n",
              "      <td>0.46</td>\n",
              "      <td>nan</td>\n",
              "      <td>0.41</td>\n",
              "      <td>nan</td>\n",
              "      <td>nan</td>\n",
              "      <td>162</td>\n",
              "      <td>...</td>\n",
              "      <td>0</td>\n",
              "      <td>0</td>\n",
              "      <td>0</td>\n",
              "      <td>0</td>\n",
              "      <td>0</td>\n",
              "      <td>0</td>\n",
              "      <td>0</td>\n",
              "      <td>0</td>\n",
              "      <td>0</td>\n",
              "      <td>0</td>\n",
              "      <td>0</td>\n",
              "      <td>0</td>\n",
              "      <td>0</td>\n",
              "      <td>0</td>\n",
              "      <td>0</td>\n",
              "      <td>0</td>\n",
              "      <td>0</td>\n",
              "      <td>0</td>\n",
              "      <td>0</td>\n",
              "      <td>0</td>\n",
              "      <td>0</td>\n",
              "      <td>0</td>\n",
              "      <td>0</td>\n",
              "      <td>0</td>\n",
              "      <td>0</td>\n",
              "      <td>0</td>\n",
              "      <td>0</td>\n",
              "      <td>0</td>\n",
              "      <td>0</td>\n",
              "      <td>0</td>\n",
              "      <td>0</td>\n",
              "      <td>0</td>\n",
              "      <td>0</td>\n",
              "      <td>0</td>\n",
              "      <td>0</td>\n",
              "      <td>0</td>\n",
              "      <td>0</td>\n",
              "      <td>0</td>\n",
              "      <td>0</td>\n",
              "      <td>8</td>\n",
              "    </tr>\n",
              "  </tbody>\n",
              "</table>\n",
              "<p>5 rows × 128 columns</p>\n",
              "</div>"
            ],
            "text/plain": [
              "   Id  Product_Info_1  ... Medical_Keyword_48  Response\n",
              "0   2               1  ...                  0         8\n",
              "1   5               1  ...                  0         4\n",
              "2   6               1  ...                  0         8\n",
              "3   7               1  ...                  0         8\n",
              "4   8               1  ...                  0         8\n",
              "\n",
              "[5 rows x 128 columns]"
            ]
          },
          "metadata": {
            "tags": []
          },
          "execution_count": 4
        }
      ]
    },
    {
      "cell_type": "markdown",
      "metadata": {
        "id": "tJuz1hzRUC13"
      },
      "source": [
        "#2. Data\n",
        " 데이터는 Train : Test = 3 : 1 비율로 분리되고 무작위 샘플링으로 이루어진다. Train data는 59,766명, 126개 변수로 구성된 transactional data(low level)이고 , Test data는 19,766명, 126개 변수로 구성된다. 변수의 범주는 다음과 같다. \n",
        "  * **Product Information** 보험상품 : Info_1 ~ Info_7\n",
        "  * **Insurance Age** 보험나이 \n",
        "  * **Height** 키\n",
        "  * **Weight** 몸무게\n",
        "  * **BMI** 체질량 지수 \n",
        "  * **Employment Information** 고용정보 : Info_1 ~ Info_6\n",
        "  * **Insured Information** 보험정보 : Info_1 ~ Info_7\n",
        "  * **Insurance History** 보험내역 : Info_1 ~ Info_9\n",
        "  * **Family History** 가족력 : Info_1 ~ Info_5\n",
        "  * **Medical History** 기왕력 : Info_1 ~ Info_41\n",
        "  * **Medical Keyword** 메디컬 키워드 : Info_1 ~ Info_48 \n",
        "\n",
        "각 범주에는 class 별 여러 변수가 포함되어 있다. "
      ]
    },
    {
      "cell_type": "code",
      "metadata": {
        "id": "P21M2A3ftOt0",
        "outputId": "1672f43a-3305-4108-8610-07dfeafae049",
        "colab": {
          "base_uri": "https://localhost:8080/",
          "height": 170
        }
      },
      "source": [
        "train.columns"
      ],
      "execution_count": 5,
      "outputs": [
        {
          "output_type": "execute_result",
          "data": {
            "text/plain": [
              "Index(['Id', 'Product_Info_1', 'Product_Info_2', 'Product_Info_3',\n",
              "       'Product_Info_4', 'Product_Info_5', 'Product_Info_6', 'Product_Info_7',\n",
              "       'Ins_Age', 'Ht',\n",
              "       ...\n",
              "       'Medical_Keyword_40', 'Medical_Keyword_41', 'Medical_Keyword_42',\n",
              "       'Medical_Keyword_43', 'Medical_Keyword_44', 'Medical_Keyword_45',\n",
              "       'Medical_Keyword_46', 'Medical_Keyword_47', 'Medical_Keyword_48',\n",
              "       'Response'],\n",
              "      dtype='object', length=128)"
            ]
          },
          "metadata": {
            "tags": []
          },
          "execution_count": 5
        }
      ]
    },
    {
      "cell_type": "markdown",
      "metadata": {
        "id": "0i_g--AEZ6Xt"
      },
      "source": [
        "#3. Exploratory Data Analysis"
      ]
    },
    {
      "cell_type": "code",
      "metadata": {
        "id": "RkBlCqasYe4_"
      },
      "source": [
        "df = pd.DataFrame([\"Product Information\",\n",
        "\"Insurance Age\",\n",
        "\"Height\",\n",
        "\"Weight\", \n",
        "\"BMI\",\n",
        "\"Employment Information\",\n",
        "\"Insured Information\",\n",
        "\"Insurance History\",\n",
        "\"Family History\",\n",
        "\"Medical History\",\n",
        "\"Medical Keyword\"], columns = ['Variable_type'])\n",
        "\n",
        "df['Continous'] = [1,1,1,1,1,3,0,1,4,0,0]\n",
        "df['Categorical'] = [6,0,0,0,0,3,7,8,1,4,0]\n",
        "df['Dummy'] = [0,0,0,0,0,0,0,0,0,0,48]\n",
        "df['Total'] = df.iloc[:, 1:4].sum(axis=1)\n",
        "#df['Total'] = df['Continous'] + df['Categorical'] + df['Dummy']\n",
        "#df['Total']= df.sum(axis=1)\n",
        "#df = df.append({'Variable_type':'Sum','Continous': 13, 'Categorical':66, 'Dummy':48, 'Total':1}, ignore_index=True) \n",
        "# cloumns 합을 값으로 하는 row 만들기"
      ],
      "execution_count": 6,
      "outputs": []
    },
    {
      "cell_type": "markdown",
      "metadata": {
        "id": "9Fo7Bl-Kqwxb"
      },
      "source": [
        "* 변수의 유형        \n",
        " Continuous, Categorical(명목형 및 순서형) 변수와 Dummy(이진형/지표형) 변수의 유형을 파악한다. 이과정은 모델링 과정에서 변수 선택 및 알고리즘의 선택에 도움이 된다.\n",
        "\n",
        " Continous 변수는 요약 통계량, 막대 그래프 및 밀도분포표를 사용하여 분석한다. 범주형 변수는 변수에 따른 결과를 추적하기 위하여 사건 발생률 차트를 사용하여 분석한다.     \n",
        "  "
      ]
    },
    {
      "cell_type": "code",
      "metadata": {
        "id": "tryfwZb42Qzk",
        "outputId": "4c30fe44-d90a-4768-e2fc-35688649f121",
        "colab": {
          "base_uri": "https://localhost:8080/",
          "height": 390
        }
      },
      "source": [
        "df"
      ],
      "execution_count": 7,
      "outputs": [
        {
          "output_type": "execute_result",
          "data": {
            "text/html": [
              "<div>\n",
              "<style scoped>\n",
              "    .dataframe tbody tr th:only-of-type {\n",
              "        vertical-align: middle;\n",
              "    }\n",
              "\n",
              "    .dataframe tbody tr th {\n",
              "        vertical-align: top;\n",
              "    }\n",
              "\n",
              "    .dataframe thead th {\n",
              "        text-align: right;\n",
              "    }\n",
              "</style>\n",
              "<table border=\"1\" class=\"dataframe\">\n",
              "  <thead>\n",
              "    <tr style=\"text-align: right;\">\n",
              "      <th></th>\n",
              "      <th>Variable_type</th>\n",
              "      <th>Continous</th>\n",
              "      <th>Categorical</th>\n",
              "      <th>Dummy</th>\n",
              "      <th>Total</th>\n",
              "    </tr>\n",
              "  </thead>\n",
              "  <tbody>\n",
              "    <tr>\n",
              "      <th>0</th>\n",
              "      <td>Product Information</td>\n",
              "      <td>1</td>\n",
              "      <td>6</td>\n",
              "      <td>0</td>\n",
              "      <td>7</td>\n",
              "    </tr>\n",
              "    <tr>\n",
              "      <th>1</th>\n",
              "      <td>Insurance Age</td>\n",
              "      <td>1</td>\n",
              "      <td>0</td>\n",
              "      <td>0</td>\n",
              "      <td>1</td>\n",
              "    </tr>\n",
              "    <tr>\n",
              "      <th>2</th>\n",
              "      <td>Height</td>\n",
              "      <td>1</td>\n",
              "      <td>0</td>\n",
              "      <td>0</td>\n",
              "      <td>1</td>\n",
              "    </tr>\n",
              "    <tr>\n",
              "      <th>3</th>\n",
              "      <td>Weight</td>\n",
              "      <td>1</td>\n",
              "      <td>0</td>\n",
              "      <td>0</td>\n",
              "      <td>1</td>\n",
              "    </tr>\n",
              "    <tr>\n",
              "      <th>4</th>\n",
              "      <td>BMI</td>\n",
              "      <td>1</td>\n",
              "      <td>0</td>\n",
              "      <td>0</td>\n",
              "      <td>1</td>\n",
              "    </tr>\n",
              "    <tr>\n",
              "      <th>5</th>\n",
              "      <td>Employment Information</td>\n",
              "      <td>3</td>\n",
              "      <td>3</td>\n",
              "      <td>0</td>\n",
              "      <td>6</td>\n",
              "    </tr>\n",
              "    <tr>\n",
              "      <th>6</th>\n",
              "      <td>Insured Information</td>\n",
              "      <td>0</td>\n",
              "      <td>7</td>\n",
              "      <td>0</td>\n",
              "      <td>7</td>\n",
              "    </tr>\n",
              "    <tr>\n",
              "      <th>7</th>\n",
              "      <td>Insurance History</td>\n",
              "      <td>1</td>\n",
              "      <td>8</td>\n",
              "      <td>0</td>\n",
              "      <td>9</td>\n",
              "    </tr>\n",
              "    <tr>\n",
              "      <th>8</th>\n",
              "      <td>Family History</td>\n",
              "      <td>4</td>\n",
              "      <td>1</td>\n",
              "      <td>0</td>\n",
              "      <td>5</td>\n",
              "    </tr>\n",
              "    <tr>\n",
              "      <th>9</th>\n",
              "      <td>Medical History</td>\n",
              "      <td>0</td>\n",
              "      <td>4</td>\n",
              "      <td>0</td>\n",
              "      <td>4</td>\n",
              "    </tr>\n",
              "    <tr>\n",
              "      <th>10</th>\n",
              "      <td>Medical Keyword</td>\n",
              "      <td>0</td>\n",
              "      <td>0</td>\n",
              "      <td>48</td>\n",
              "      <td>48</td>\n",
              "    </tr>\n",
              "  </tbody>\n",
              "</table>\n",
              "</div>"
            ],
            "text/plain": [
              "             Variable_type  Continous  Categorical  Dummy  Total\n",
              "0      Product Information          1            6      0      7\n",
              "1            Insurance Age          1            0      0      1\n",
              "2                   Height          1            0      0      1\n",
              "3                   Weight          1            0      0      1\n",
              "4                      BMI          1            0      0      1\n",
              "5   Employment Information          3            3      0      6\n",
              "6      Insured Information          0            7      0      7\n",
              "7        Insurance History          1            8      0      9\n",
              "8           Family History          4            1      0      5\n",
              "9          Medical History          0            4      0      4\n",
              "10         Medical Keyword          0            0     48     48"
            ]
          },
          "metadata": {
            "tags": []
          },
          "execution_count": 7
        }
      ]
    },
    {
      "cell_type": "markdown",
      "metadata": {
        "id": "64MnOJjaL-tj"
      },
      "source": [
        "* 반응도 히스토그램               \n",
        " 명목형 변수인 고객의 위험분류 1~8등급에 따른 반응 도표이다. 위험등급이 위험도 규모의 크기 순서인지 여부는 언급되지 않았으나, 응답 변수의 분포를 통해 8등급이 가장 낮은 위험도를 나타내는 것으로 유추할 수 있다. "
      ]
    },
    {
      "cell_type": "code",
      "metadata": {
        "id": "15V53QQjnM_b",
        "outputId": "8fbc5b3c-d5fb-4c9d-91ac-35ae4969740f",
        "colab": {
          "base_uri": "https://localhost:8080/",
          "height": 316
        }
      },
      "source": [
        "sns.countplot(data = train, x = 'Response', alpha=0.9, palette='YlOrRd')"
      ],
      "execution_count": 8,
      "outputs": [
        {
          "output_type": "execute_result",
          "data": {
            "text/plain": [
              "<matplotlib.axes._subplots.AxesSubplot at 0x7f7295af9208>"
            ]
          },
          "metadata": {
            "tags": []
          },
          "execution_count": 8
        },
        {
          "output_type": "stream",
          "text": [
            "findfont: Font family ['NanumBarunGothic'] not found. Falling back to DejaVu Sans.\n"
          ],
          "name": "stderr"
        },
        {
          "output_type": "display_data",
          "data": {
            "image/png": "[encoded data removed]",
            "text/plain": [
              "<Figure size 432x288 with 1 Axes>"
            ]
          },
          "metadata": {
            "tags": [],
            "needs_background": "light"
          }
        }
      ]
    },
    {
      "cell_type": "code",
      "metadata": {
        "id": "30SmBh7_a3R3",
        "outputId": "767c538b-1e56-4f52-c11e-2f82031846c2",
        "colab": {
          "base_uri": "https://localhost:8080/",
          "height": 279
        }
      },
      "source": [
        "from scipy.stats import norm\n",
        "ax = sns.distplot(train['Response'], fit=norm, kde=False)"
      ],
      "execution_count": 9,
      "outputs": [
        {
          "output_type": "display_data",
          "data": {
            "image/png": "[encoded data removed]",
            "text/plain": [
              "<Figure size 432x288 with 1 Axes>"
            ]
          },
          "metadata": {
            "tags": [],
            "needs_background": "light"
          }
        }
      ]
    },
    {
      "cell_type": "markdown",
      "metadata": {
        "id": "9B_LInQZL6l2"
      },
      "source": [
        "* 요약통계          \n",
        "기계 학습 알고리즘 변수의 보다 쉬운 통합을 위해 [0, 1] 범위로 정규화한다. 요약 통계량은 기본 데이터 분포를 이해하고, box plot 및 density plot 을 통해 데이터를 시각화하는 데 도움이 된다."
      ]
    },
    {
      "cell_type": "code",
      "metadata": {
        "id": "gfOVHacjPs4t"
      },
      "source": [
        "con = train.loc[:,['Product_Info_4', 'Ins_Age', 'Ht', 'Wt', 'BMI']]\n",
        "con1 = train.loc[:,['Employment_Info_1', 'Employment_Info_4', 'Employment_Info_6']]"
      ],
      "execution_count": 10,
      "outputs": []
    },
    {
      "cell_type": "code",
      "metadata": {
        "id": "PDL1W_BOR27e",
        "outputId": "d3c39061-7a45-4e4f-a577-ede94c509884",
        "colab": {
          "base_uri": "https://localhost:8080/",
          "height": 297
        }
      },
      "source": [
        "con.describe()"
      ],
      "execution_count": 11,
      "outputs": [
        {
          "output_type": "execute_result",
          "data": {
            "text/html": [
              "<div>\n",
              "<style scoped>\n",
              "    .dataframe tbody tr th:only-of-type {\n",
              "        vertical-align: middle;\n",
              "    }\n",
              "\n",
              "    .dataframe tbody tr th {\n",
              "        vertical-align: top;\n",
              "    }\n",
              "\n",
              "    .dataframe thead th {\n",
              "        text-align: right;\n",
              "    }\n",
              "</style>\n",
              "<table border=\"1\" class=\"dataframe\">\n",
              "  <thead>\n",
              "    <tr style=\"text-align: right;\">\n",
              "      <th></th>\n",
              "      <th>Product_Info_4</th>\n",
              "      <th>Ins_Age</th>\n",
              "      <th>Ht</th>\n",
              "      <th>Wt</th>\n",
              "      <th>BMI</th>\n",
              "    </tr>\n",
              "  </thead>\n",
              "  <tbody>\n",
              "    <tr>\n",
              "      <th>count</th>\n",
              "      <td>59381.00</td>\n",
              "      <td>59381.00</td>\n",
              "      <td>59381.00</td>\n",
              "      <td>59381.00</td>\n",
              "      <td>59381.00</td>\n",
              "    </tr>\n",
              "    <tr>\n",
              "      <th>mean</th>\n",
              "      <td>0.33</td>\n",
              "      <td>0.41</td>\n",
              "      <td>0.71</td>\n",
              "      <td>0.29</td>\n",
              "      <td>0.47</td>\n",
              "    </tr>\n",
              "    <tr>\n",
              "      <th>std</th>\n",
              "      <td>0.28</td>\n",
              "      <td>0.20</td>\n",
              "      <td>0.07</td>\n",
              "      <td>0.09</td>\n",
              "      <td>0.12</td>\n",
              "    </tr>\n",
              "    <tr>\n",
              "      <th>min</th>\n",
              "      <td>0.00</td>\n",
              "      <td>0.00</td>\n",
              "      <td>0.00</td>\n",
              "      <td>0.00</td>\n",
              "      <td>0.00</td>\n",
              "    </tr>\n",
              "    <tr>\n",
              "      <th>25%</th>\n",
              "      <td>0.08</td>\n",
              "      <td>0.24</td>\n",
              "      <td>0.65</td>\n",
              "      <td>0.23</td>\n",
              "      <td>0.39</td>\n",
              "    </tr>\n",
              "    <tr>\n",
              "      <th>50%</th>\n",
              "      <td>0.23</td>\n",
              "      <td>0.40</td>\n",
              "      <td>0.71</td>\n",
              "      <td>0.29</td>\n",
              "      <td>0.45</td>\n",
              "    </tr>\n",
              "    <tr>\n",
              "      <th>75%</th>\n",
              "      <td>0.49</td>\n",
              "      <td>0.57</td>\n",
              "      <td>0.76</td>\n",
              "      <td>0.35</td>\n",
              "      <td>0.53</td>\n",
              "    </tr>\n",
              "    <tr>\n",
              "      <th>max</th>\n",
              "      <td>1.00</td>\n",
              "      <td>1.00</td>\n",
              "      <td>1.00</td>\n",
              "      <td>1.00</td>\n",
              "      <td>1.00</td>\n",
              "    </tr>\n",
              "  </tbody>\n",
              "</table>\n",
              "</div>"
            ],
            "text/plain": [
              "       Product_Info_4  Ins_Age       Ht       Wt      BMI\n",
              "count        59381.00 59381.00 59381.00 59381.00 59381.00\n",
              "mean             0.33     0.41     0.71     0.29     0.47\n",
              "std              0.28     0.20     0.07     0.09     0.12\n",
              "min              0.00     0.00     0.00     0.00     0.00\n",
              "25%              0.08     0.24     0.65     0.23     0.39\n",
              "50%              0.23     0.40     0.71     0.29     0.45\n",
              "75%              0.49     0.57     0.76     0.35     0.53\n",
              "max              1.00     1.00     1.00     1.00     1.00"
            ]
          },
          "metadata": {
            "tags": []
          },
          "execution_count": 11
        }
      ]
    },
    {
      "cell_type": "markdown",
      "metadata": {
        "id": "f5I2MdGgUGUf"
      },
      "source": [
        "* 연속 변수 분석   "
      ]
    },
    {
      "cell_type": "markdown",
      "metadata": {
        "id": "_3tMi7ZyUWbz"
      },
      "source": [
        "> Box plot 을 사용하면 특히 특이치와 관련하여 데이터 세트를 시각화할 수 있다."
      ]
    },
    {
      "cell_type": "code",
      "metadata": {
        "id": "RsrJr8m6R87y",
        "outputId": "6dbdbbb9-c477-4adf-c0eb-827d8912ed30",
        "colab": {
          "base_uri": "https://localhost:8080/",
          "height": 283
        }
      },
      "source": [
        "sns.boxplot(data = con, palette='YlGnBu')"
      ],
      "execution_count": 12,
      "outputs": [
        {
          "output_type": "execute_result",
          "data": {
            "text/plain": [
              "<matplotlib.axes._subplots.AxesSubplot at 0x7f7292ca3e80>"
            ]
          },
          "metadata": {
            "tags": []
          },
          "execution_count": 12
        },
        {
          "output_type": "display_data",
          "data": {
            "image/png": "[encoded data removed]",
            "text/plain": [
              "<Figure size 432x288 with 1 Axes>"
            ]
          },
          "metadata": {
            "tags": [],
            "needs_background": "light"
          }
        }
      ]
    },
    {
      "cell_type": "markdown",
      "metadata": {
        "id": "bin_fGeDUowO"
      },
      "source": [
        "* 요약통계   "
      ]
    },
    {
      "cell_type": "code",
      "metadata": {
        "id": "Cam5LdmATz3F",
        "outputId": "1b0db6c0-d02e-4556-c2c2-efb3123a05f9",
        "colab": {
          "base_uri": "https://localhost:8080/",
          "height": 297
        }
      },
      "source": [
        "con1.describe()"
      ],
      "execution_count": 13,
      "outputs": [
        {
          "output_type": "execute_result",
          "data": {
            "text/html": [
              "<div>\n",
              "<style scoped>\n",
              "    .dataframe tbody tr th:only-of-type {\n",
              "        vertical-align: middle;\n",
              "    }\n",
              "\n",
              "    .dataframe tbody tr th {\n",
              "        vertical-align: top;\n",
              "    }\n",
              "\n",
              "    .dataframe thead th {\n",
              "        text-align: right;\n",
              "    }\n",
              "</style>\n",
              "<table border=\"1\" class=\"dataframe\">\n",
              "  <thead>\n",
              "    <tr style=\"text-align: right;\">\n",
              "      <th></th>\n",
              "      <th>Employment_Info_1</th>\n",
              "      <th>Employment_Info_4</th>\n",
              "      <th>Employment_Info_6</th>\n",
              "    </tr>\n",
              "  </thead>\n",
              "  <tbody>\n",
              "    <tr>\n",
              "      <th>count</th>\n",
              "      <td>59362.00</td>\n",
              "      <td>52602.00</td>\n",
              "      <td>48527.00</td>\n",
              "    </tr>\n",
              "    <tr>\n",
              "      <th>mean</th>\n",
              "      <td>0.08</td>\n",
              "      <td>0.01</td>\n",
              "      <td>0.36</td>\n",
              "    </tr>\n",
              "    <tr>\n",
              "      <th>std</th>\n",
              "      <td>0.08</td>\n",
              "      <td>0.03</td>\n",
              "      <td>0.35</td>\n",
              "    </tr>\n",
              "    <tr>\n",
              "      <th>min</th>\n",
              "      <td>0.00</td>\n",
              "      <td>0.00</td>\n",
              "      <td>0.00</td>\n",
              "    </tr>\n",
              "    <tr>\n",
              "      <th>25%</th>\n",
              "      <td>0.04</td>\n",
              "      <td>0.00</td>\n",
              "      <td>0.06</td>\n",
              "    </tr>\n",
              "    <tr>\n",
              "      <th>50%</th>\n",
              "      <td>0.06</td>\n",
              "      <td>0.00</td>\n",
              "      <td>0.25</td>\n",
              "    </tr>\n",
              "    <tr>\n",
              "      <th>75%</th>\n",
              "      <td>0.10</td>\n",
              "      <td>0.00</td>\n",
              "      <td>0.55</td>\n",
              "    </tr>\n",
              "    <tr>\n",
              "      <th>max</th>\n",
              "      <td>1.00</td>\n",
              "      <td>1.00</td>\n",
              "      <td>1.00</td>\n",
              "    </tr>\n",
              "  </tbody>\n",
              "</table>\n",
              "</div>"
            ],
            "text/plain": [
              "       Employment_Info_1  Employment_Info_4  Employment_Info_6\n",
              "count           59362.00           52602.00           48527.00\n",
              "mean                0.08               0.01               0.36\n",
              "std                 0.08               0.03               0.35\n",
              "min                 0.00               0.00               0.00\n",
              "25%                 0.04               0.00               0.06\n",
              "50%                 0.06               0.00               0.25\n",
              "75%                 0.10               0.00               0.55\n",
              "max                 1.00               1.00               1.00"
            ]
          },
          "metadata": {
            "tags": []
          },
          "execution_count": 13
        }
      ]
    },
    {
      "cell_type": "markdown",
      "metadata": {
        "id": "Ojrct-XOUhAm"
      },
      "source": [
        "* 연속 변수 분석   "
      ]
    },
    {
      "cell_type": "markdown",
      "metadata": {
        "id": "jgMyhQBeUQaT"
      },
      "source": [
        "> Box plot 을 사용하면 특히 특이치와 관련하여 데이터 세트를 시각화할 수 있다."
      ]
    },
    {
      "cell_type": "code",
      "metadata": {
        "id": "oM17JNV9TEfz",
        "outputId": "462f81e7-4488-4613-b254-71a996270999",
        "colab": {
          "base_uri": "https://localhost:8080/",
          "height": 283
        }
      },
      "source": [
        "sns.boxplot(data = con1, palette='YlOrRd')"
      ],
      "execution_count": 14,
      "outputs": [
        {
          "output_type": "execute_result",
          "data": {
            "text/plain": [
              "<matplotlib.axes._subplots.AxesSubplot at 0x7f7292bdb630>"
            ]
          },
          "metadata": {
            "tags": []
          },
          "execution_count": 14
        },
        {
          "output_type": "display_data",
          "data": {
            "image/png": "[encoded data removed]",
            "text/plain": [
              "<Figure size 432x288 with 1 Axes>"
            ]
          },
          "metadata": {
            "tags": [],
            "needs_background": "light"
          }
        }
      ]
    },
    {
      "cell_type": "markdown",
      "metadata": {
        "id": "oAGy0ruSZ9x_"
      },
      "source": [
        "> Density plot 은 평균, 표준 편차 및 첨도와 같은 통계 지표를 포함하여 분포의 특성을 시각화하는 데 도움이 된다. 또한 반응 변수와 어떤 관계가 있는지 시각적으로 확인할 수 있다. 예를 들면 다음과 같다. 고용형태 6번 변수의 밀도분포표는 반응 변수의 히스토그램과 유사하며, 이는 아마도 이 변수가 반응 변수의 좋은 예측 변수가 될 수 있음을 나타낸다.\n",
        "\n"
      ]
    },
    {
      "cell_type": "code",
      "metadata": {
        "id": "L8CRFx1d1G9n",
        "outputId": "e9819fb1-15cb-4ff7-cdf3-ad167aea8664",
        "colab": {
          "base_uri": "https://localhost:8080/",
          "height": 296
        }
      },
      "source": [
        "sns.distplot(con['Product_Info_4'], kde=True, hist=False, color='g') #dataframe만든 후 하는 것과의 차이점 \n",
        "sns.distplot(con['Ins_Age'], kde=True, hist=False, color='r')\n",
        "sns.distplot(con['Wt'], kde=True, hist=False, color='b')\n",
        "sns.distplot(con['BMI'], kde=True, hist=False, color='c')\n"
      ],
      "execution_count": 15,
      "outputs": [
        {
          "output_type": "execute_result",
          "data": {
            "text/plain": [
              "<matplotlib.axes._subplots.AxesSubplot at 0x7f72962f6390>"
            ]
          },
          "metadata": {
            "tags": []
          },
          "execution_count": 15
        },
        {
          "output_type": "display_data",
          "data": {
            "image/png": "[encoded data removed]",
            "text/plain": [
              "<Figure size 432x288 with 1 Axes>"
            ]
          },
          "metadata": {
            "tags": [],
            "needs_background": "light"
          }
        }
      ]
    },
    {
      "cell_type": "code",
      "metadata": {
        "id": "KB8VIa-WN1_B",
        "outputId": "57a84d06-724f-42c3-f9d2-8f6e4c1d8537",
        "colab": {
          "base_uri": "https://localhost:8080/",
          "height": 297
        }
      },
      "source": [
        "sns.distplot(con1['Employment_Info_1'], kde=True, hist=False, color='y') \n",
        "sns.distplot(con1['Employment_Info_4'], kde=True, hist=False, color='pink')\n",
        "sns.distplot(con1['Employment_Info_6'], kde=True, hist=False, color='purple')"
      ],
      "execution_count": 16,
      "outputs": [
        {
          "output_type": "execute_result",
          "data": {
            "text/plain": [
              "<matplotlib.axes._subplots.AxesSubplot at 0x7f72928b83c8>"
            ]
          },
          "metadata": {
            "tags": []
          },
          "execution_count": 16
        },
        {
          "output_type": "display_data",
          "data": {
            "image/png": "[encoded data removed]",
            "text/plain": [
              "<Figure size 432x288 with 1 Axes>"
            ]
          },
          "metadata": {
            "tags": [],
            "needs_background": "light"
          }
        }
      ]
    },
    {
      "cell_type": "code",
      "metadata": {
        "id": "VkFNmljKM-SV",
        "outputId": "476fafcd-53ad-426b-c2e5-ed7f12f342a9",
        "colab": {
          "base_uri": "https://localhost:8080/",
          "height": 297
        }
      },
      "source": [
        "sns.distplot(con1['Employment_Info_1'], kde=True, hist=False, color='y') # density가 다른 경우, 표를 함께 그리려면? "
      ],
      "execution_count": 17,
      "outputs": [
        {
          "output_type": "execute_result",
          "data": {
            "text/plain": [
              "<matplotlib.axes._subplots.AxesSubplot at 0x7f7292bdbc50>"
            ]
          },
          "metadata": {
            "tags": []
          },
          "execution_count": 17
        },
        {
          "output_type": "display_data",
          "data": {
            "image/png": "[encoded data removed]",
            "text/plain": [
              "<Figure size 432x288 with 1 Axes>"
            ]
          },
          "metadata": {
            "tags": [],
            "needs_background": "light"
          }
        }
      ]
    },
    {
      "cell_type": "code",
      "metadata": {
        "id": "G5WNV-lD31by",
        "outputId": "1bb90e45-fb0a-49f6-c890-b005b99c87fb",
        "colab": {
          "base_uri": "https://localhost:8080/",
          "height": 297
        }
      },
      "source": [
        "sns.distplot(con1['Employment_Info_4'], kde=True, hist=False, color='pink')"
      ],
      "execution_count": 18,
      "outputs": [
        {
          "output_type": "execute_result",
          "data": {
            "text/plain": [
              "<matplotlib.axes._subplots.AxesSubplot at 0x7f7291789c50>"
            ]
          },
          "metadata": {
            "tags": []
          },
          "execution_count": 18
        },
        {
          "output_type": "display_data",
          "data": {
            "image/png": "[encoded data removed]",
            "text/plain": [
              "<Figure size 432x288 with 1 Axes>"
            ]
          },
          "metadata": {
            "tags": [],
            "needs_background": "light"
          }
        }
      ]
    },
    {
      "cell_type": "code",
      "metadata": {
        "id": "9qvREopbM1QF",
        "outputId": "e447d12b-8320-4c68-faca-3964256c6824",
        "colab": {
          "base_uri": "https://localhost:8080/",
          "height": 297
        }
      },
      "source": [
        "sns.distplot(con1['Employment_Info_6'], kde=True, hist=False, color='purple')"
      ],
      "execution_count": 19,
      "outputs": [
        {
          "output_type": "execute_result",
          "data": {
            "text/plain": [
              "<matplotlib.axes._subplots.AxesSubplot at 0x7f7291773908>"
            ]
          },
          "metadata": {
            "tags": []
          },
          "execution_count": 19
        },
        {
          "output_type": "display_data",
          "data": {
            "image/png": "[encoded data removed]",
            "text/plain": [
              "<Figure size 432x288 with 1 Axes>"
            ]
          },
          "metadata": {
            "tags": [],
            "needs_background": "light"
          }
        }
      ]
    },
    {
      "cell_type": "code",
      "metadata": {
        "id": "58tRvXBINoSO",
        "outputId": "e545e8ed-da2a-4884-fe54-e656afe84d72",
        "colab": {
          "base_uri": "https://localhost:8080/",
          "height": 299
        }
      },
      "source": [
        "sns.distplot(train['Response'], kde=True, hist=False, color='red')"
      ],
      "execution_count": 20,
      "outputs": [
        {
          "output_type": "execute_result",
          "data": {
            "text/plain": [
              "<matplotlib.axes._subplots.AxesSubplot at 0x7f72916ce2b0>"
            ]
          },
          "metadata": {
            "tags": []
          },
          "execution_count": 20
        },
        {
          "output_type": "display_data",
          "data": {
            "image/png": "[encoded data removed]",
            "text/plain": [
              "<Figure size 432x288 with 1 Axes>"
            ]
          },
          "metadata": {
            "tags": [],
            "needs_background": "light"
          }
        }
      ]
    },
    {
      "cell_type": "code",
      "metadata": {
        "id": "XP57H4naX3OW"
      },
      "source": [
        ""
      ],
      "execution_count": 20,
      "outputs": []
    },
    {
      "cell_type": "markdown",
      "metadata": {
        "id": "fDc9LywWZ-bg"
      },
      "source": [
        "* 결측값 분석    "
      ]
    },
    {
      "cell_type": "code",
      "metadata": {
        "id": "TFsnw-BtTwyk",
        "outputId": "efb3450f-7d78-4059-989c-a17c0b3a9483",
        "colab": {
          "base_uri": "https://localhost:8080/",
          "height": 238
        }
      },
      "source": [
        "for i in range(1,128):\n",
        "    if train.isna().sum()[i] > 0:\n",
        "        print(train.columns[i], ':', train.isna().sum()[i])"
      ],
      "execution_count": 21,
      "outputs": [
        {
          "output_type": "stream",
          "text": [
            "Employment_Info_1 : 19\n",
            "Employment_Info_4 : 6779\n",
            "Employment_Info_6 : 10854\n",
            "Insurance_History_5 : 25396\n",
            "Family_Hist_2 : 28656\n",
            "Family_Hist_3 : 34241\n",
            "Family_Hist_4 : 19184\n",
            "Family_Hist_5 : 41811\n",
            "Medical_History_1 : 8889\n",
            "Medical_History_10 : 58824\n",
            "Medical_History_15 : 44596\n",
            "Medical_History_24 : 55580\n",
            "Medical_History_32 : 58274\n"
          ],
          "name": "stdout"
        }
      ]
    },
    {
      "cell_type": "code",
      "metadata": {
        "id": "QjcE-A3Ycrk5"
      },
      "source": [
        "def missing_data(data):\n",
        "    total = data.isnull().sum()\n",
        "    percent = (data.isnull().sum()/data.isnull().count()*100)\n",
        "    tt = pd.concat([total, percent], axis=1, keys=['Total', 'Percent'])\n",
        "    types = []\n",
        "    for col in train.columns:\n",
        "        dtype = str(train[col].dtype)    # types? \n",
        "        types.append(dtype)\n",
        "    tt['Types'] = types\n",
        "    return tt"
      ],
      "execution_count": 22,
      "outputs": []
    },
    {
      "cell_type": "code",
      "metadata": {
        "id": "-wgImyqhgt2Z",
        "outputId": "50c1bea8-2791-4a6c-9868-cfa58a5e2421",
        "colab": {
          "base_uri": "https://localhost:8080/",
          "height": 221
        }
      },
      "source": [
        "missing_data(train)['Percent'].sort_values(ascending=False)"
      ],
      "execution_count": 23,
      "outputs": [
        {
          "output_type": "execute_result",
          "data": {
            "text/plain": [
              "Medical_History_10   99.06\n",
              "Medical_History_32   98.14\n",
              "Medical_History_24   93.60\n",
              "Medical_History_15   75.10\n",
              "Family_Hist_5        70.41\n",
              "                      ... \n",
              "Medical_Keyword_12    0.00\n",
              "Medical_Keyword_13    0.00\n",
              "Medical_Keyword_14    0.00\n",
              "Medical_Keyword_15    0.00\n",
              "Id                    0.00\n",
              "Name: Percent, Length: 128, dtype: float64"
            ]
          },
          "metadata": {
            "tags": []
          },
          "execution_count": 23
        }
      ]
    },
    {
      "cell_type": "code",
      "metadata": {
        "id": "idfvZr9UhCYW"
      },
      "source": [
        "train=train[train.columns[train.isnull().mean() <= 0.75]]"
      ],
      "execution_count": 49,
      "outputs": []
    },
    {
      "cell_type": "code",
      "metadata": {
        "id": "nBY0muV-hs92",
        "outputId": "cb4a406d-24c3-4e7b-80e6-b85fbdda64c0",
        "colab": {
          "base_uri": "https://localhost:8080/",
          "height": 221
        }
      },
      "source": [
        "train.isnull().sum().sort_values(ascending=False)"
      ],
      "execution_count": 25,
      "outputs": [
        {
          "output_type": "execute_result",
          "data": {
            "text/plain": [
              "Family_Hist_5          41811\n",
              "Family_Hist_3          34241\n",
              "Family_Hist_2          28656\n",
              "Insurance_History_5    25396\n",
              "Family_Hist_4          19184\n",
              "                       ...  \n",
              "Medical_Keyword_13         0\n",
              "Medical_Keyword_14         0\n",
              "Medical_Keyword_15         0\n",
              "Medical_Keyword_16         0\n",
              "Id                         0\n",
              "Length: 124, dtype: int64"
            ]
          },
          "metadata": {
            "tags": []
          },
          "execution_count": 25
        }
      ]
    },
    {
      "cell_type": "code",
      "metadata": {
        "id": "FxyBDAM5h20I",
        "outputId": "b6d6a2f9-f15b-4c2f-9381-7fe5e69b94d3",
        "colab": {
          "base_uri": "https://localhost:8080/",
          "height": 170
        }
      },
      "source": [
        "for i in range(1,124):\n",
        "    if train.isna().sum()[i] > 0:\n",
        "        print(train.columns[i], ':', train.isna().sum()[i])"
      ],
      "execution_count": 26,
      "outputs": [
        {
          "output_type": "stream",
          "text": [
            "Employment_Info_1 : 19\n",
            "Employment_Info_4 : 6779\n",
            "Employment_Info_6 : 10854\n",
            "Insurance_History_5 : 25396\n",
            "Family_Hist_2 : 28656\n",
            "Family_Hist_3 : 34241\n",
            "Family_Hist_4 : 19184\n",
            "Family_Hist_5 : 41811\n",
            "Medical_History_1 : 8889\n"
          ],
          "name": "stdout"
        }
      ]
    },
    {
      "cell_type": "code",
      "metadata": {
        "id": "5Ve9J6rgisiD"
      },
      "source": [
        " list_train = train.columns[train.isna().any()].tolist() #any()"
      ],
      "execution_count": 27,
      "outputs": []
    },
    {
      "cell_type": "code",
      "metadata": {
        "id": "2Uhb2lU-jC-K",
        "outputId": "7d331b99-610a-4312-8f8a-29902c98d68c",
        "colab": {
          "base_uri": "https://localhost:8080/",
          "height": 170
        }
      },
      "source": [
        "for i in range(0,len(list_train)):\n",
        "    print('column name: ',list_train[i],' Dtype:',train[list_train[i]].dtypes) #컬럼의 갯수 "
      ],
      "execution_count": 28,
      "outputs": [
        {
          "output_type": "stream",
          "text": [
            "column name:  Employment_Info_1  Dtype: float64\n",
            "column name:  Employment_Info_4  Dtype: float64\n",
            "column name:  Employment_Info_6  Dtype: float64\n",
            "column name:  Insurance_History_5  Dtype: float64\n",
            "column name:  Family_Hist_2  Dtype: float64\n",
            "column name:  Family_Hist_3  Dtype: float64\n",
            "column name:  Family_Hist_4  Dtype: float64\n",
            "column name:  Family_Hist_5  Dtype: float64\n",
            "column name:  Medical_History_1  Dtype: float64\n"
          ],
          "name": "stdout"
        }
      ]
    },
    {
      "cell_type": "code",
      "metadata": {
        "id": "avWg2eUkkQic"
      },
      "source": [
        "for column in list_train:\n",
        "    train[column].fillna(train[column].mean(), inplace=True)   # R subset 기능?"
      ],
      "execution_count": 29,
      "outputs": []
    },
    {
      "cell_type": "code",
      "metadata": {
        "id": "1jSFQI6P8UT-"
      },
      "source": [
        "#train.iloc[:, 2:8].isna().sum()\n",
        "#train.iloc[:, 9:12].isna().sum()\n",
        "#train.iloc[:, 18:24].isna().sum()\n",
        "#train.iloc[:, 71:118].isna().sum() # loc로 컬럼 추출하기? "
      ],
      "execution_count": 30,
      "outputs": []
    },
    {
      "cell_type": "code",
      "metadata": {
        "id": "6QG8ZEF-HTNK",
        "outputId": "7cc86252-089c-4939-f34f-6f3365ea7d61",
        "colab": {
          "base_uri": "https://localhost:8080/",
          "height": 370
        }
      },
      "source": [
        "Employ = train.iloc[:, 13:18].isna().sum()/59381\n",
        "Employ.plot(kind='bar')"
      ],
      "execution_count": 31,
      "outputs": [
        {
          "output_type": "execute_result",
          "data": {
            "text/plain": [
              "<matplotlib.axes._subplots.AxesSubplot at 0x7f729160e208>"
            ]
          },
          "metadata": {
            "tags": []
          },
          "execution_count": 31
        },
        {
          "output_type": "display_data",
          "data": {
            "image/png": "[encoded data removed]",
            "text/plain": [
              "<Figure size 432x288 with 1 Axes>"
            ]
          },
          "metadata": {
            "tags": [],
            "needs_background": "light"
          }
        }
      ]
    },
    {
      "cell_type": "code",
      "metadata": {
        "id": "z6_bMpzAII8o",
        "outputId": "186ed7db-4c38-45fb-9234-fcf4fa1f28ee",
        "colab": {
          "base_uri": "https://localhost:8080/",
          "height": 373
        }
      },
      "source": [
        "Insurance = train.iloc[:, 25:33].isna().sum()/59381\n",
        "Insurance.plot(kind='bar')"
      ],
      "execution_count": 32,
      "outputs": [
        {
          "output_type": "execute_result",
          "data": {
            "text/plain": [
              "<matplotlib.axes._subplots.AxesSubplot at 0x7f72915f25c0>"
            ]
          },
          "metadata": {
            "tags": []
          },
          "execution_count": 32
        },
        {
          "output_type": "display_data",
          "data": {
            "image/png": "[encoded data removed]",
            "text/plain": [
              "<Figure size 432x288 with 1 Axes>"
            ]
          },
          "metadata": {
            "tags": [],
            "needs_background": "light"
          }
        }
      ]
    },
    {
      "cell_type": "code",
      "metadata": {
        "id": "SziolnooI6wh",
        "outputId": "88ff2a1a-107f-41c8-baef-05597191cb9e",
        "colab": {
          "base_uri": "https://localhost:8080/",
          "height": 373
        }
      },
      "source": [
        "Family = train.iloc[:, 26:30].isna().sum()/59381\n",
        "Family.plot(kind='bar')"
      ],
      "execution_count": 33,
      "outputs": [
        {
          "output_type": "execute_result",
          "data": {
            "text/plain": [
              "<matplotlib.axes._subplots.AxesSubplot at 0x7f7291695ef0>"
            ]
          },
          "metadata": {
            "tags": []
          },
          "execution_count": 33
        },
        {
          "output_type": "display_data",
          "data": {
            "image/png": "[encoded data removed]",
            "text/plain": [
              "<Figure size 432x288 with 1 Axes>"
            ]
          },
          "metadata": {
            "tags": [],
            "needs_background": "light"
          }
        }
      ]
    },
    {
      "cell_type": "code",
      "metadata": {
        "id": "7r4E99x7JE_1",
        "outputId": "70b5cf90-5ca5-43cc-a6cc-43f3cc6c9ec5",
        "colab": {
          "base_uri": "https://localhost:8080/",
          "height": 373
        }
      },
      "source": [
        "Medical = train.iloc[:, 31:71].isna().sum()/59381\n",
        "Medical.plot(kind='bar')"
      ],
      "execution_count": 34,
      "outputs": [
        {
          "output_type": "execute_result",
          "data": {
            "text/plain": [
              "<matplotlib.axes._subplots.AxesSubplot at 0x7f72914c1b70>"
            ]
          },
          "metadata": {
            "tags": []
          },
          "execution_count": 34
        },
        {
          "output_type": "display_data",
          "data": {
            "image/png": "[encoded data removed]",
            "text/plain": [
              "<Figure size 432x288 with 1 Axes>"
            ]
          },
          "metadata": {
            "tags": [],
            "needs_background": "light"
          }
        }
      ]
    },
    {
      "cell_type": "markdown",
      "metadata": {
        "id": "zWU7HaRWvC6-"
      },
      "source": [
        "\n",
        "\n",
        "> 결측값 백분율 차트는 변수가\u001f 예측을 위한 데이터 레코드가 충분한지 여부를 평가한다. 이 도표는 각 변수의 결측치의 백분율을 나타낸다.\n",
        "\n"
      ]
    },
    {
      "cell_type": "code",
      "metadata": {
        "id": "WRB0UHm2Ke7i",
        "outputId": "54915a9f-c42e-4bd1-ca74-80b284ad5a4b",
        "colab": {
          "base_uri": "https://localhost:8080/",
          "height": 373
        }
      },
      "source": [
        "plt.subplot(2,2,1)\n",
        "Medical.plot(kind='bar')\n",
        "plt.subplot(2,2,2)\n",
        "Family.plot(kind='bar')\n",
        "plt.subplot(2,2,3)\n",
        "Insurance.plot(kind='bar')\n",
        "plt.subplot(2,2,4)\n",
        "Employ.plot(kind='bar')"
      ],
      "execution_count": 35,
      "outputs": [
        {
          "output_type": "execute_result",
          "data": {
            "text/plain": [
              "<matplotlib.axes._subplots.AxesSubplot at 0x7f72954f9ac8>"
            ]
          },
          "metadata": {
            "tags": []
          },
          "execution_count": 35
        },
        {
          "output_type": "display_data",
          "data": {
            "image/png": "[encoded data removed]",
            "text/plain": [
              "<Figure size 432x288 with 4 Axes>"
            ]
          },
          "metadata": {
            "tags": [],
            "needs_background": "light"
          }
        }
      ]
    },
    {
      "cell_type": "code",
      "metadata": {
        "id": "ocbeBlGZ1SqM",
        "outputId": "dade514e-ce93-4eb2-89a8-146c3e9634ad",
        "colab": {
          "base_uri": "https://localhost:8080/",
          "height": 187
        }
      },
      "source": [
        "train.groupby('Response')['Employment_Info_4'].count()"
      ],
      "execution_count": 36,
      "outputs": [
        {
          "output_type": "execute_result",
          "data": {
            "text/plain": [
              "Response\n",
              "1     6207\n",
              "2     6552\n",
              "3     1013\n",
              "4     1428\n",
              "5     5432\n",
              "6    11233\n",
              "7     8027\n",
              "8    19489\n",
              "Name: Employment_Info_4, dtype: int64"
            ]
          },
          "metadata": {
            "tags": []
          },
          "execution_count": 36
        }
      ]
    },
    {
      "cell_type": "markdown",
      "metadata": {
        "id": "lNe5JlNIZ-j3"
      },
      "source": [
        "> 이 차트를 통해 결측값 비율이 높은 변수가 반응 변수 예측에 실제로 도움이 되는지 확인할 수 있다. 각 반응 범주에 대한 결측값 분포는 변수 내에 유지되므로 결측값은 본질적으로 무작위하다.\n",
        "\n"
      ]
    },
    {
      "cell_type": "markdown",
      "metadata": {
        "id": "CUfE-dZTZ-0R"
      },
      "source": [
        "* 사고 발생률 차트 \n",
        "  "
      ]
    },
    {
      "cell_type": "code",
      "metadata": {
        "id": "_brV_ISj5J3i"
      },
      "source": [
        "#train.iloc[:, 2:8]\n",
        "#train.iloc[:, 9:12]\n",
        "#train.iloc[:, 18:24]\n",
        "#train.iloc[:, 71:118]\n",
        "#train.iloc[:, 31:71]\n",
        "#train.iloc[:, 26:30]\n",
        "#train.iloc[:, 25:33]\n",
        "#train.iloc[:, 13:18]"
      ],
      "execution_count": 37,
      "outputs": []
    },
    {
      "cell_type": "code",
      "metadata": {
        "id": "7nDTcMbA5jnD"
      },
      "source": [
        "Employ_corr = train.groupby('Response')['Employment_Info_1','Employment_Info_2', 'Employment_Info_3', 'Employment_Info_4', 'Employment_Info_5', 'Employment_Info_6']"
      ],
      "execution_count": 38,
      "outputs": []
    },
    {
      "cell_type": "markdown",
      "metadata": {
        "id": "lwngZb2JZ-8m"
      },
      "source": [
        "* 상관관계표\n",
        "데이터 분석과 데이터 처리 후, 모델 개발 단계는 변수 감소일 것이다."
      ]
    },
    {
      "cell_type": "markdown",
      "metadata": {
        "id": "5tuuTT2sJXkV"
      },
      "source": [
        "#4. 변수 처리       \n",
        " "
      ]
    },
    {
      "cell_type": "markdown",
      "metadata": {
        "id": "JdcDmHPWTeIn"
      },
      "source": [
        "* 누락된 데이터 처리         \n",
        "데이터 처리의 예비 단계로, 결측값 비율이 높은 변수는 제거된다. 제거 임계값은 사용자가 결정하는 것이지만, 이 분석에서의 임계값은 30% 이다.            \n",
        " "
      ]
    },
    {
      "cell_type": "markdown",
      "metadata": {
        "id": "FL-f6xT-UtyX"
      },
      "source": [
        "* 결측값 처리      \n",
        "이전 모델링 단계에서 삭제되지 않은 변수의 경우, 더 낮은 백분율의 결측값이 있는 변수에 귀속한다. 귀속에 사용되는 방법론은 나머지 데이터의 중위수를 사용하는 것이다. 이는 일반적으로 사용되는 관행이며 모든 변수에 대한 결측 데이터가 반응 변수 위에 랜덤하게 분포되기 때문에 효율적이다."
      ]
    },
    {
      "cell_type": "markdown",
      "metadata": {
        "id": "gXF-6SspU6Nz"
      },
      "source": [
        "* 주성분 분석\n"
      ]
    },
    {
      "cell_type": "markdown",
      "metadata": {
        "id": "1lkxeQU3VxcV"
      },
      "source": [
        "* Boruta Classification Algorithm     \n",
        "Boruta는 연관성 있는 모든 특징 선택 wrapper algorithmn 이다. 이 방법은 원래 속성의 중요성과 무작위로 시행된 중요도를 비교하여 모든 관련있는 특징에 대하여 top-down 방식으로 수행된다. 관련성이 높은 특징 순서대로 복사본을 만들고, 관련 없는 특징들을 점진적으로 제거한다. 주성분 분석 이후의 모든 속성은 알고리즘에 의해 중요한 것으로 간주된다."
      ]
    },
    {
      "cell_type": "markdown",
      "metadata": {
        "id": "wp83Ph1nn4cW"
      },
      "source": [
        "#5. 방법론"
      ]
    },
    {
      "cell_type": "markdown",
      "metadata": {
        "id": "qaDI_iPHn7ja"
      },
      "source": [
        "* Multinominal Logic Model      \n",
        " 데이터를 두 부분으로 나누고 한 부분으로 모델을 예측하고 다른 부분은 모델 유효성 검사와 표본예측을 위해 사용한다.        \n",
        "\n",
        "\n",
        "\n"
      ]
    },
    {
      "cell_type": "markdown",
      "metadata": {
        "id": "CVI0Ti8Ev2Uh"
      },
      "source": [
        "\n",
        "\n",
        "> Train data 와 Test data 의 반응 분포를 살펴본다.\n",
        "\n"
      ]
    },
    {
      "cell_type": "markdown",
      "metadata": {
        "id": "E-_hnS_freC4"
      },
      "source": [
        "> Train & Test data의 분포 비교         \n",
        "분포는 두 부분에 대해 동일하므로 두 부분이 유사한 분포를 따른다고 가정한다."
      ]
    },
    {
      "cell_type": "markdown",
      "metadata": {
        "id": "QvHQo-rUrxOD"
      },
      "source": [
        "> Performance Metrics       \n",
        "Multinominal Logic Model의 Kappa score 는 0.3183794 이다."
      ]
    },
    {
      "cell_type": "markdown",
      "metadata": {
        "id": "2GZ3HwCRt6Jv"
      },
      "source": [
        "* Random Forest        \n",
        " 데이터를 두 부분으로 나누고 한 부분을 사용하여 모델을 예측하고 다른 부분은 모델 유효성 검사와 표본 예측을 위해 사용한다. 전체 데이터 세트를 예측에 사용할 것이다.        \n",
        " "
      ]
    },
    {
      "cell_type": "markdown",
      "metadata": {
        "id": "qDD1Sm2dwEBa"
      },
      "source": [
        "> Train data 와 Test data 의 반응 분포를 살펴본다.\n",
        "\n"
      ]
    },
    {
      "cell_type": "markdown",
      "metadata": {
        "id": "CmG6DJmZxlg2"
      },
      "source": [
        "> Train & Test data의 분포 비교         \n",
        " 분포는 두 부분에 대해 동일하므로 두 부분이 유사한 분포를 따른다고 가정한다.    "
      ]
    },
    {
      "cell_type": "markdown",
      "metadata": {
        "id": "YJ6atfmW0Uzy"
      },
      "source": [
        "> Performance Metrics           \n",
        " Random Forest의 Kappa Score는 0.4744071이다.           \n",
        "Random Forest 예측에 사용되는 Rattel plot(or tree) 은 다음과 같다."
      ]
    },
    {
      "cell_type": "markdown",
      "metadata": {
        "id": "ML7IfnPJ0fOv"
      },
      "source": [
        "* XGBoost            \n",
        "XGBoost는 \"Extreme Gradient Boosting\"의 줄임말로, 여기서 \"Gradient Boosting\"이라는 용어는 Greedy function approximation 논문에서 제안했다 : Gradient Boosting machine, by Friedman.       \n",
        "XGBoost는 이 original model 을 기반으로 한다. XGBoost는 학습 문제를 관라하는 데 자주 사용되는데, training data(with multiple features, xi)를 사용하여 target variable(yi)을 예측하는데 사용된다."
      ]
    },
    {
      "cell_type": "code",
      "metadata": {
        "id": "YGyx6iiD_Wx1"
      },
      "source": [
        ""
      ],
      "execution_count": 38,
      "outputs": []
    }
  ]
}