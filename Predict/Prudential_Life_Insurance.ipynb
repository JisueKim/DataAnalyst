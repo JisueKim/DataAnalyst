{
  "nbformat": 4,
  "nbformat_minor": 0,
  "metadata": {
    "colab": {
      "name": "Prudential Life Insurance.ipynb",
      "provenance": [],
      "collapsed_sections": []
    },
    "kernelspec": {
      "name": "python3",
      "display_name": "Python 3"
    }
  },
  "cells": [
    {
      "cell_type": "markdown",
      "metadata": {
        "id": "C9c4pbuqKni_"
      },
      "source": [
        "# Prudential life insurance      \n",
        "데이터셋 - Kaggle      \n",
        "형태 - 파일데이터(csv)       \n",
        "다운로드 - https://www.kaggle.com/c/prudential-life-insurance-assessment      "
      ]
    },
    {
      "cell_type": "markdown",
      "metadata": {
        "id": "re3uoAPWTF1s"
      },
      "source": [
        "# 1. Introduction\n",
        "\n",
        " 보험은 아날로그 형태의 전통적인 사람중심 규제산업이지만, 신종감염병 COVID-19 확산으로 인하여 언택트, 디지털화가 가속화 되고 있다. 가속화된 디지털화는 디지털 네이티브 세대 뿐만 아니라 40~50대까지 확장되고 있으며 기존의 가치사슬을 허물고 있다. \n",
        "\n",
        " 현행 청약 프로세스는 청약일로부터 30일이내 건강검진, 고객방문, 의적위험평가를 위한 서류심사를 포함하여 광범위한 정보를 바탕으로 한 위험평가가 이루어진다. 위험 세분화 및 프로세스 자동화를 통하여 신규 및 기존고객이 보다 신속하고 비용 효과적으로 보험을 가입할 수 있는 것을 목표로 한다. 또한 스코어링 시스템의 예측능력 향상을 통해 효과적인 위험관리를 가능하게 할 것이다.  \n",
        "\n",
        " 자동화 프로세스 및 스코어링 시스템의 예측력 향상을 통하여 예측적 언더라이팅 리스크 관리를 통하여 위험률차익 개선이 가능하도록 해야한다. 이는 결과적으로 보험료 상승을 막고 공평한 보험료 부담이 가능하게 된다. 추후 고객맞춤형 언더라이팅 프로세스 향상, 자동화를 통하여 고객중심의 고개만족 향상을 위한 지속적인 연구와 개발이 필요할 것이다. \n",
        " \n",
        " 한편 생명보험산업에 직면하고 있는 문제점은 다음과 같다. IFRS17 대비하여 보장성 보험 중심 포트폴리오로 전환이 필요한 상황이지만 이미 가구당 보험가입률은 98% 초과하는 포화시장 상태이다. 이러한 경쟁상황에서 시장 점유율 향상을 위해 공격적인 상품개발과 언더라이팅 완화로 인하여 결국 상품리스크와 언더라이팅리스크 관리는 매우 어려운 현실이며 결국 보험사기, 보험리스크 증가로 인한 보험료 상승으로 이어질 수 밖에 없는 현실이다. 이러한 문제점 해결하기 위한 방안 또한 함께 고려되어야 할 것이다. \n",
        " \n"
      ]
    },
    {
      "cell_type": "code",
      "metadata": {
        "id": "KNz9SmIFTzmG"
      },
      "source": [
        "import pandas as pd\n",
        "import numpy as np\n",
        "import matplotlib.pyplot as plt\n",
        "import seaborn as sns\n",
        "import warnings\n",
        "\n",
        "\n",
        "warnings.filterwarnings('ignore')\n",
        "plt.rc('font', family='NanumBarunGothic') \n",
        "plt.rcParams['figure.figsize'] = (10, 7)\n",
        "\n",
        "pd.set_option('display.float_format', lambda x: '%.2f' % x)\n",
        "\n",
        "%matplotlib inline "
      ],
      "execution_count": 1,
      "outputs": []
    },
    {
      "cell_type": "code",
      "metadata": {
        "id": "wRGTf6poT3vM",
        "outputId": "40103675-69cc-409d-a525-b39872d14955",
        "colab": {
          "base_uri": "https://localhost:8080/",
          "height": 34
        }
      },
      "source": [
        "from google.colab import drive\n",
        "drive.mount('/content/drive')"
      ],
      "execution_count": 2,
      "outputs": [
        {
          "output_type": "stream",
          "text": [
            "Mounted at /content/drive\n"
          ],
          "name": "stdout"
        }
      ]
    },
    {
      "cell_type": "code",
      "metadata": {
        "id": "6Mk3wSiCT9_K"
      },
      "source": [
        "filename = '/content/sample_data/train.csv'\n",
        "train = pd.read_csv(filename)"
      ],
      "execution_count": 4,
      "outputs": []
    },
    {
      "cell_type": "code",
      "metadata": {
        "id": "0ceMMeweU0Mg",
        "outputId": "97db4681-3aa7-4c4d-da3f-02092ec5e629",
        "colab": {
          "base_uri": "https://localhost:8080/",
          "height": 253
        }
      },
      "source": [
        "train.head()"
      ],
      "execution_count": 8,
      "outputs": [
        {
          "output_type": "execute_result",
          "data": {
            "text/html": [
              "<div>\n",
              "<style scoped>\n",
              "    .dataframe tbody tr th:only-of-type {\n",
              "        vertical-align: middle;\n",
              "    }\n",
              "\n",
              "    .dataframe tbody tr th {\n",
              "        vertical-align: top;\n",
              "    }\n",
              "\n",
              "    .dataframe thead th {\n",
              "        text-align: right;\n",
              "    }\n",
              "</style>\n",
              "<table border=\"1\" class=\"dataframe\">\n",
              "  <thead>\n",
              "    <tr style=\"text-align: right;\">\n",
              "      <th></th>\n",
              "      <th>Id</th>\n",
              "      <th>Product_Info_1</th>\n",
              "      <th>Product_Info_2</th>\n",
              "      <th>Product_Info_3</th>\n",
              "      <th>Product_Info_4</th>\n",
              "      <th>Product_Info_5</th>\n",
              "      <th>Product_Info_6</th>\n",
              "      <th>Product_Info_7</th>\n",
              "      <th>Ins_Age</th>\n",
              "      <th>Ht</th>\n",
              "      <th>Wt</th>\n",
              "      <th>BMI</th>\n",
              "      <th>Employment_Info_1</th>\n",
              "      <th>Employment_Info_2</th>\n",
              "      <th>Employment_Info_3</th>\n",
              "      <th>Employment_Info_4</th>\n",
              "      <th>Employment_Info_5</th>\n",
              "      <th>Employment_Info_6</th>\n",
              "      <th>InsuredInfo_1</th>\n",
              "      <th>InsuredInfo_2</th>\n",
              "      <th>InsuredInfo_3</th>\n",
              "      <th>InsuredInfo_4</th>\n",
              "      <th>InsuredInfo_5</th>\n",
              "      <th>InsuredInfo_6</th>\n",
              "      <th>InsuredInfo_7</th>\n",
              "      <th>Insurance_History_1</th>\n",
              "      <th>Insurance_History_2</th>\n",
              "      <th>Insurance_History_3</th>\n",
              "      <th>Insurance_History_4</th>\n",
              "      <th>Insurance_History_5</th>\n",
              "      <th>Insurance_History_7</th>\n",
              "      <th>Insurance_History_8</th>\n",
              "      <th>Insurance_History_9</th>\n",
              "      <th>Family_Hist_1</th>\n",
              "      <th>Family_Hist_2</th>\n",
              "      <th>Family_Hist_3</th>\n",
              "      <th>Family_Hist_4</th>\n",
              "      <th>Family_Hist_5</th>\n",
              "      <th>Medical_History_1</th>\n",
              "      <th>Medical_History_2</th>\n",
              "      <th>...</th>\n",
              "      <th>Medical_Keyword_10</th>\n",
              "      <th>Medical_Keyword_11</th>\n",
              "      <th>Medical_Keyword_12</th>\n",
              "      <th>Medical_Keyword_13</th>\n",
              "      <th>Medical_Keyword_14</th>\n",
              "      <th>Medical_Keyword_15</th>\n",
              "      <th>Medical_Keyword_16</th>\n",
              "      <th>Medical_Keyword_17</th>\n",
              "      <th>Medical_Keyword_18</th>\n",
              "      <th>Medical_Keyword_19</th>\n",
              "      <th>Medical_Keyword_20</th>\n",
              "      <th>Medical_Keyword_21</th>\n",
              "      <th>Medical_Keyword_22</th>\n",
              "      <th>Medical_Keyword_23</th>\n",
              "      <th>Medical_Keyword_24</th>\n",
              "      <th>Medical_Keyword_25</th>\n",
              "      <th>Medical_Keyword_26</th>\n",
              "      <th>Medical_Keyword_27</th>\n",
              "      <th>Medical_Keyword_28</th>\n",
              "      <th>Medical_Keyword_29</th>\n",
              "      <th>Medical_Keyword_30</th>\n",
              "      <th>Medical_Keyword_31</th>\n",
              "      <th>Medical_Keyword_32</th>\n",
              "      <th>Medical_Keyword_33</th>\n",
              "      <th>Medical_Keyword_34</th>\n",
              "      <th>Medical_Keyword_35</th>\n",
              "      <th>Medical_Keyword_36</th>\n",
              "      <th>Medical_Keyword_37</th>\n",
              "      <th>Medical_Keyword_38</th>\n",
              "      <th>Medical_Keyword_39</th>\n",
              "      <th>Medical_Keyword_40</th>\n",
              "      <th>Medical_Keyword_41</th>\n",
              "      <th>Medical_Keyword_42</th>\n",
              "      <th>Medical_Keyword_43</th>\n",
              "      <th>Medical_Keyword_44</th>\n",
              "      <th>Medical_Keyword_45</th>\n",
              "      <th>Medical_Keyword_46</th>\n",
              "      <th>Medical_Keyword_47</th>\n",
              "      <th>Medical_Keyword_48</th>\n",
              "      <th>Response</th>\n",
              "    </tr>\n",
              "  </thead>\n",
              "  <tbody>\n",
              "    <tr>\n",
              "      <th>0</th>\n",
              "      <td>2</td>\n",
              "      <td>1</td>\n",
              "      <td>D3</td>\n",
              "      <td>10</td>\n",
              "      <td>0.08</td>\n",
              "      <td>2</td>\n",
              "      <td>1</td>\n",
              "      <td>1</td>\n",
              "      <td>0.64</td>\n",
              "      <td>0.58</td>\n",
              "      <td>0.15</td>\n",
              "      <td>0.32</td>\n",
              "      <td>0.03</td>\n",
              "      <td>12</td>\n",
              "      <td>1</td>\n",
              "      <td>0.00</td>\n",
              "      <td>3</td>\n",
              "      <td>nan</td>\n",
              "      <td>1</td>\n",
              "      <td>2</td>\n",
              "      <td>6</td>\n",
              "      <td>3</td>\n",
              "      <td>1</td>\n",
              "      <td>2</td>\n",
              "      <td>1</td>\n",
              "      <td>1</td>\n",
              "      <td>1</td>\n",
              "      <td>3</td>\n",
              "      <td>1</td>\n",
              "      <td>0.00</td>\n",
              "      <td>1</td>\n",
              "      <td>1</td>\n",
              "      <td>2</td>\n",
              "      <td>2</td>\n",
              "      <td>nan</td>\n",
              "      <td>0.60</td>\n",
              "      <td>nan</td>\n",
              "      <td>0.53</td>\n",
              "      <td>4.00</td>\n",
              "      <td>112</td>\n",
              "      <td>...</td>\n",
              "      <td>0.00</td>\n",
              "      <td>0.00</td>\n",
              "      <td>0.00</td>\n",
              "      <td>0.00</td>\n",
              "      <td>0.00</td>\n",
              "      <td>0.00</td>\n",
              "      <td>0.00</td>\n",
              "      <td>0.00</td>\n",
              "      <td>0.00</td>\n",
              "      <td>0.00</td>\n",
              "      <td>0.00</td>\n",
              "      <td>0.00</td>\n",
              "      <td>0.00</td>\n",
              "      <td>0.00</td>\n",
              "      <td>0.00</td>\n",
              "      <td>0.00</td>\n",
              "      <td>0.00</td>\n",
              "      <td>0.00</td>\n",
              "      <td>0.00</td>\n",
              "      <td>0.00</td>\n",
              "      <td>0.00</td>\n",
              "      <td>0.00</td>\n",
              "      <td>0.00</td>\n",
              "      <td>0.00</td>\n",
              "      <td>0.00</td>\n",
              "      <td>0.00</td>\n",
              "      <td>0.00</td>\n",
              "      <td>0.00</td>\n",
              "      <td>0.00</td>\n",
              "      <td>0.00</td>\n",
              "      <td>0.00</td>\n",
              "      <td>0.00</td>\n",
              "      <td>0.00</td>\n",
              "      <td>0.00</td>\n",
              "      <td>0.00</td>\n",
              "      <td>0.00</td>\n",
              "      <td>0.00</td>\n",
              "      <td>0.00</td>\n",
              "      <td>0.00</td>\n",
              "      <td>8.00</td>\n",
              "    </tr>\n",
              "    <tr>\n",
              "      <th>1</th>\n",
              "      <td>5</td>\n",
              "      <td>1</td>\n",
              "      <td>A1</td>\n",
              "      <td>26</td>\n",
              "      <td>0.08</td>\n",
              "      <td>2</td>\n",
              "      <td>3</td>\n",
              "      <td>1</td>\n",
              "      <td>0.06</td>\n",
              "      <td>0.60</td>\n",
              "      <td>0.13</td>\n",
              "      <td>0.27</td>\n",
              "      <td>0.00</td>\n",
              "      <td>1</td>\n",
              "      <td>3</td>\n",
              "      <td>0.00</td>\n",
              "      <td>2</td>\n",
              "      <td>0.00</td>\n",
              "      <td>1</td>\n",
              "      <td>2</td>\n",
              "      <td>6</td>\n",
              "      <td>3</td>\n",
              "      <td>1</td>\n",
              "      <td>2</td>\n",
              "      <td>1</td>\n",
              "      <td>2</td>\n",
              "      <td>1</td>\n",
              "      <td>3</td>\n",
              "      <td>1</td>\n",
              "      <td>0.00</td>\n",
              "      <td>1</td>\n",
              "      <td>3</td>\n",
              "      <td>2</td>\n",
              "      <td>2</td>\n",
              "      <td>0.19</td>\n",
              "      <td>nan</td>\n",
              "      <td>0.08</td>\n",
              "      <td>nan</td>\n",
              "      <td>5.00</td>\n",
              "      <td>412</td>\n",
              "      <td>...</td>\n",
              "      <td>0.00</td>\n",
              "      <td>0.00</td>\n",
              "      <td>0.00</td>\n",
              "      <td>0.00</td>\n",
              "      <td>0.00</td>\n",
              "      <td>0.00</td>\n",
              "      <td>0.00</td>\n",
              "      <td>0.00</td>\n",
              "      <td>0.00</td>\n",
              "      <td>0.00</td>\n",
              "      <td>0.00</td>\n",
              "      <td>0.00</td>\n",
              "      <td>0.00</td>\n",
              "      <td>0.00</td>\n",
              "      <td>0.00</td>\n",
              "      <td>0.00</td>\n",
              "      <td>0.00</td>\n",
              "      <td>0.00</td>\n",
              "      <td>0.00</td>\n",
              "      <td>0.00</td>\n",
              "      <td>0.00</td>\n",
              "      <td>0.00</td>\n",
              "      <td>0.00</td>\n",
              "      <td>0.00</td>\n",
              "      <td>0.00</td>\n",
              "      <td>0.00</td>\n",
              "      <td>0.00</td>\n",
              "      <td>0.00</td>\n",
              "      <td>0.00</td>\n",
              "      <td>0.00</td>\n",
              "      <td>0.00</td>\n",
              "      <td>0.00</td>\n",
              "      <td>0.00</td>\n",
              "      <td>0.00</td>\n",
              "      <td>0.00</td>\n",
              "      <td>0.00</td>\n",
              "      <td>0.00</td>\n",
              "      <td>0.00</td>\n",
              "      <td>0.00</td>\n",
              "      <td>4.00</td>\n",
              "    </tr>\n",
              "    <tr>\n",
              "      <th>2</th>\n",
              "      <td>6</td>\n",
              "      <td>1</td>\n",
              "      <td>E1</td>\n",
              "      <td>26</td>\n",
              "      <td>0.08</td>\n",
              "      <td>2</td>\n",
              "      <td>3</td>\n",
              "      <td>1</td>\n",
              "      <td>0.03</td>\n",
              "      <td>0.75</td>\n",
              "      <td>0.29</td>\n",
              "      <td>0.43</td>\n",
              "      <td>0.03</td>\n",
              "      <td>9</td>\n",
              "      <td>1</td>\n",
              "      <td>0.00</td>\n",
              "      <td>2</td>\n",
              "      <td>0.03</td>\n",
              "      <td>1</td>\n",
              "      <td>2</td>\n",
              "      <td>8</td>\n",
              "      <td>3</td>\n",
              "      <td>1</td>\n",
              "      <td>1</td>\n",
              "      <td>1</td>\n",
              "      <td>2</td>\n",
              "      <td>1</td>\n",
              "      <td>1</td>\n",
              "      <td>3</td>\n",
              "      <td>nan</td>\n",
              "      <td>3</td>\n",
              "      <td>2</td>\n",
              "      <td>3</td>\n",
              "      <td>3</td>\n",
              "      <td>0.30</td>\n",
              "      <td>nan</td>\n",
              "      <td>0.23</td>\n",
              "      <td>nan</td>\n",
              "      <td>10.00</td>\n",
              "      <td>3</td>\n",
              "      <td>...</td>\n",
              "      <td>0.00</td>\n",
              "      <td>0.00</td>\n",
              "      <td>0.00</td>\n",
              "      <td>0.00</td>\n",
              "      <td>0.00</td>\n",
              "      <td>0.00</td>\n",
              "      <td>0.00</td>\n",
              "      <td>0.00</td>\n",
              "      <td>0.00</td>\n",
              "      <td>0.00</td>\n",
              "      <td>0.00</td>\n",
              "      <td>0.00</td>\n",
              "      <td>0.00</td>\n",
              "      <td>0.00</td>\n",
              "      <td>0.00</td>\n",
              "      <td>0.00</td>\n",
              "      <td>0.00</td>\n",
              "      <td>0.00</td>\n",
              "      <td>0.00</td>\n",
              "      <td>0.00</td>\n",
              "      <td>0.00</td>\n",
              "      <td>0.00</td>\n",
              "      <td>0.00</td>\n",
              "      <td>0.00</td>\n",
              "      <td>0.00</td>\n",
              "      <td>0.00</td>\n",
              "      <td>0.00</td>\n",
              "      <td>0.00</td>\n",
              "      <td>0.00</td>\n",
              "      <td>0.00</td>\n",
              "      <td>0.00</td>\n",
              "      <td>0.00</td>\n",
              "      <td>0.00</td>\n",
              "      <td>0.00</td>\n",
              "      <td>0.00</td>\n",
              "      <td>0.00</td>\n",
              "      <td>0.00</td>\n",
              "      <td>0.00</td>\n",
              "      <td>0.00</td>\n",
              "      <td>8.00</td>\n",
              "    </tr>\n",
              "    <tr>\n",
              "      <th>3</th>\n",
              "      <td>7</td>\n",
              "      <td>1</td>\n",
              "      <td>D4</td>\n",
              "      <td>10</td>\n",
              "      <td>0.49</td>\n",
              "      <td>2</td>\n",
              "      <td>3</td>\n",
              "      <td>1</td>\n",
              "      <td>0.16</td>\n",
              "      <td>0.67</td>\n",
              "      <td>0.21</td>\n",
              "      <td>0.35</td>\n",
              "      <td>0.04</td>\n",
              "      <td>9</td>\n",
              "      <td>1</td>\n",
              "      <td>0.00</td>\n",
              "      <td>3</td>\n",
              "      <td>0.20</td>\n",
              "      <td>2</td>\n",
              "      <td>2</td>\n",
              "      <td>8</td>\n",
              "      <td>3</td>\n",
              "      <td>1</td>\n",
              "      <td>2</td>\n",
              "      <td>1</td>\n",
              "      <td>2</td>\n",
              "      <td>1</td>\n",
              "      <td>1</td>\n",
              "      <td>3</td>\n",
              "      <td>nan</td>\n",
              "      <td>3</td>\n",
              "      <td>2</td>\n",
              "      <td>3</td>\n",
              "      <td>3</td>\n",
              "      <td>0.42</td>\n",
              "      <td>nan</td>\n",
              "      <td>0.35</td>\n",
              "      <td>nan</td>\n",
              "      <td>0.00</td>\n",
              "      <td>350</td>\n",
              "      <td>...</td>\n",
              "      <td>0.00</td>\n",
              "      <td>0.00</td>\n",
              "      <td>0.00</td>\n",
              "      <td>0.00</td>\n",
              "      <td>0.00</td>\n",
              "      <td>0.00</td>\n",
              "      <td>0.00</td>\n",
              "      <td>0.00</td>\n",
              "      <td>0.00</td>\n",
              "      <td>0.00</td>\n",
              "      <td>0.00</td>\n",
              "      <td>0.00</td>\n",
              "      <td>0.00</td>\n",
              "      <td>0.00</td>\n",
              "      <td>0.00</td>\n",
              "      <td>0.00</td>\n",
              "      <td>0.00</td>\n",
              "      <td>0.00</td>\n",
              "      <td>0.00</td>\n",
              "      <td>0.00</td>\n",
              "      <td>0.00</td>\n",
              "      <td>0.00</td>\n",
              "      <td>1.00</td>\n",
              "      <td>0.00</td>\n",
              "      <td>0.00</td>\n",
              "      <td>0.00</td>\n",
              "      <td>0.00</td>\n",
              "      <td>0.00</td>\n",
              "      <td>0.00</td>\n",
              "      <td>0.00</td>\n",
              "      <td>0.00</td>\n",
              "      <td>0.00</td>\n",
              "      <td>0.00</td>\n",
              "      <td>0.00</td>\n",
              "      <td>0.00</td>\n",
              "      <td>0.00</td>\n",
              "      <td>0.00</td>\n",
              "      <td>0.00</td>\n",
              "      <td>0.00</td>\n",
              "      <td>8.00</td>\n",
              "    </tr>\n",
              "    <tr>\n",
              "      <th>4</th>\n",
              "      <td>8</td>\n",
              "      <td>1</td>\n",
              "      <td>D2</td>\n",
              "      <td>26</td>\n",
              "      <td>0.23</td>\n",
              "      <td>2</td>\n",
              "      <td>3</td>\n",
              "      <td>1</td>\n",
              "      <td>0.42</td>\n",
              "      <td>0.65</td>\n",
              "      <td>0.23</td>\n",
              "      <td>0.42</td>\n",
              "      <td>0.03</td>\n",
              "      <td>9</td>\n",
              "      <td>1</td>\n",
              "      <td>0.00</td>\n",
              "      <td>2</td>\n",
              "      <td>0.05</td>\n",
              "      <td>1</td>\n",
              "      <td>2</td>\n",
              "      <td>6</td>\n",
              "      <td>3</td>\n",
              "      <td>1</td>\n",
              "      <td>2</td>\n",
              "      <td>1</td>\n",
              "      <td>2</td>\n",
              "      <td>1</td>\n",
              "      <td>1</td>\n",
              "      <td>3</td>\n",
              "      <td>nan</td>\n",
              "      <td>3</td>\n",
              "      <td>2</td>\n",
              "      <td>3</td>\n",
              "      <td>2</td>\n",
              "      <td>0.46</td>\n",
              "      <td>nan</td>\n",
              "      <td>0.41</td>\n",
              "      <td>nan</td>\n",
              "      <td>nan</td>\n",
              "      <td>162</td>\n",
              "      <td>...</td>\n",
              "      <td>0.00</td>\n",
              "      <td>0.00</td>\n",
              "      <td>0.00</td>\n",
              "      <td>0.00</td>\n",
              "      <td>0.00</td>\n",
              "      <td>0.00</td>\n",
              "      <td>0.00</td>\n",
              "      <td>0.00</td>\n",
              "      <td>0.00</td>\n",
              "      <td>0.00</td>\n",
              "      <td>0.00</td>\n",
              "      <td>0.00</td>\n",
              "      <td>0.00</td>\n",
              "      <td>0.00</td>\n",
              "      <td>0.00</td>\n",
              "      <td>0.00</td>\n",
              "      <td>0.00</td>\n",
              "      <td>0.00</td>\n",
              "      <td>0.00</td>\n",
              "      <td>0.00</td>\n",
              "      <td>0.00</td>\n",
              "      <td>0.00</td>\n",
              "      <td>0.00</td>\n",
              "      <td>0.00</td>\n",
              "      <td>0.00</td>\n",
              "      <td>0.00</td>\n",
              "      <td>0.00</td>\n",
              "      <td>0.00</td>\n",
              "      <td>0.00</td>\n",
              "      <td>0.00</td>\n",
              "      <td>0.00</td>\n",
              "      <td>0.00</td>\n",
              "      <td>0.00</td>\n",
              "      <td>0.00</td>\n",
              "      <td>0.00</td>\n",
              "      <td>0.00</td>\n",
              "      <td>0.00</td>\n",
              "      <td>0.00</td>\n",
              "      <td>0.00</td>\n",
              "      <td>8.00</td>\n",
              "    </tr>\n",
              "  </tbody>\n",
              "</table>\n",
              "<p>5 rows × 128 columns</p>\n",
              "</div>"
            ],
            "text/plain": [
              "   Id  Product_Info_1  ... Medical_Keyword_48  Response\n",
              "0   2               1  ...               0.00      8.00\n",
              "1   5               1  ...               0.00      4.00\n",
              "2   6               1  ...               0.00      8.00\n",
              "3   7               1  ...               0.00      8.00\n",
              "4   8               1  ...               0.00      8.00\n",
              "\n",
              "[5 rows x 128 columns]"
            ]
          },
          "metadata": {
            "tags": []
          },
          "execution_count": 8
        }
      ]
    },
    {
      "cell_type": "markdown",
      "metadata": {
        "id": "tJuz1hzRUC13"
      },
      "source": [
        "#2. Data\n",
        " 데이터는 Train : Test = 3 : 1 비율로 분리되고 무작위 샘플링으로 이루어진다. Train data는 59,766명, 126개 변수로 구성된 transactional data(low level)이고 , Test data는 19,766명, 126개 변수로 구성된다. 변수의 범주는 다음과 같다. \n",
        "  * **Product Information** 보험상품 \n",
        "  * **Insurance Age** 보험나이 \n",
        "  * **Height** 키\n",
        "  * **Weight** 몸무게\n",
        "  * **BMI** 체질량 지수 \n",
        "  * **Employment Information** 고용정보 \n",
        "  * **Insured Information** 보험정보\n",
        "  * **Insurance History** 보험내역\n",
        "  * **Family History** 가족력\n",
        "  * **Medical History** 기왕력\n",
        "  * **Medical Keyword** 메디컬 키워드 \n",
        "\n",
        "각 범주에는 class 별 여러 변수가 포함되어 있다. "
      ]
    },
    {
      "cell_type": "code",
      "metadata": {
        "id": "P21M2A3ftOt0",
        "outputId": "54944ddf-5df0-4d1a-9310-7dff18dae656",
        "colab": {
          "base_uri": "https://localhost:8080/",
          "height": 170
        }
      },
      "source": [
        "train.columns"
      ],
      "execution_count": 90,
      "outputs": [
        {
          "output_type": "execute_result",
          "data": {
            "text/plain": [
              "Index(['Id', 'Product_Info_1', 'Product_Info_2', 'Product_Info_3',\n",
              "       'Product_Info_4', 'Product_Info_5', 'Product_Info_6', 'Product_Info_7',\n",
              "       'Ins_Age', 'Ht',\n",
              "       ...\n",
              "       'Medical_Keyword_40', 'Medical_Keyword_41', 'Medical_Keyword_42',\n",
              "       'Medical_Keyword_43', 'Medical_Keyword_44', 'Medical_Keyword_45',\n",
              "       'Medical_Keyword_46', 'Medical_Keyword_47', 'Medical_Keyword_48',\n",
              "       'Response'],\n",
              "      dtype='object', length=128)"
            ]
          },
          "metadata": {
            "tags": []
          },
          "execution_count": 90
        }
      ]
    },
    {
      "cell_type": "markdown",
      "metadata": {
        "id": "0i_g--AEZ6Xt"
      },
      "source": [
        "#3. Exploratory Data Analysis"
      ]
    },
    {
      "cell_type": "code",
      "metadata": {
        "id": "RkBlCqasYe4_"
      },
      "source": [
        "df = pd.DataFrame([\"Product Information\",\n",
        "\"Insurance Age\",\n",
        "\"Height\",\n",
        "\"Weight\", \n",
        "\"BMI\",\n",
        "\"Employment Information\",\n",
        "\"Insured Information\",\n",
        "\"Insurance History\",\n",
        "\"Family History\",\n",
        "\"Medical History\",\n",
        "\"Medical Keyword\"], columns = ['Variable_type'])\n",
        "\n",
        "df['Continous'] = ['1','1','1','1','1','3','0','1','4','0','0']\n",
        "df['Categorical'] = ['6','0','0','0','0','3','7','8','1','4','0']\n",
        "df['Dummy'] = ['0','0','0','0','0','0','0','0','0','0','48']\n",
        "df['Total'] = ['7','1','1','1','1','6', '7', '9', '5', '4', '48'] # row 합을 값으로 하는 column 만들기\n",
        "df = df.append({'Variable_type':'Sum','Continous': 13, 'Categorical':66, 'Dummy':48, 'Total':1}, ignore_index=True) \n",
        "# cloumns 합을 값으로 하는 row 만들기"
      ],
      "execution_count": 79,
      "outputs": []
    },
    {
      "cell_type": "markdown",
      "metadata": {
        "id": "9Fo7Bl-Kqwxb"
      },
      "source": [
        "1. 변수의 유형        \n",
        " Continuous, Categorical(명목형 및 순서형) 변수와 Dummy(이진형/지표형) 변수의 유형을 파악한다. 이과정은 모델링 과정에서 변수 선택 및 알고리즘의 선택에 도움이 된다.\n",
        "\n",
        " Continous 변수는 요약 통계량, 막대 그래프 및 밀도분포표를 사용하여 분석한다. 범주형 변수는 변수에 따른 결과를 추적하기 위하여 사건 발생률 차트를 사용하여 분석한다.     \n",
        "  "
      ]
    },
    {
      "cell_type": "code",
      "metadata": {
        "id": "l2k2HLoZZIZ7",
        "outputId": "ea69ce9f-237e-4838-a2c9-bc7aaf2d5365",
        "colab": {
          "base_uri": "https://localhost:8080/",
          "height": 421
        }
      },
      "source": [
        "df"
      ],
      "execution_count": 80,
      "outputs": [
        {
          "output_type": "execute_result",
          "data": {
            "text/html": [
              "<div>\n",
              "<style scoped>\n",
              "    .dataframe tbody tr th:only-of-type {\n",
              "        vertical-align: middle;\n",
              "    }\n",
              "\n",
              "    .dataframe tbody tr th {\n",
              "        vertical-align: top;\n",
              "    }\n",
              "\n",
              "    .dataframe thead th {\n",
              "        text-align: right;\n",
              "    }\n",
              "</style>\n",
              "<table border=\"1\" class=\"dataframe\">\n",
              "  <thead>\n",
              "    <tr style=\"text-align: right;\">\n",
              "      <th></th>\n",
              "      <th>Variable_type</th>\n",
              "      <th>Continous</th>\n",
              "      <th>Categorical</th>\n",
              "      <th>Dummy</th>\n",
              "      <th>Total</th>\n",
              "    </tr>\n",
              "  </thead>\n",
              "  <tbody>\n",
              "    <tr>\n",
              "      <th>0</th>\n",
              "      <td>Product Information</td>\n",
              "      <td>1</td>\n",
              "      <td>6</td>\n",
              "      <td>0</td>\n",
              "      <td>7</td>\n",
              "    </tr>\n",
              "    <tr>\n",
              "      <th>1</th>\n",
              "      <td>Insurance Age</td>\n",
              "      <td>1</td>\n",
              "      <td>0</td>\n",
              "      <td>0</td>\n",
              "      <td>1</td>\n",
              "    </tr>\n",
              "    <tr>\n",
              "      <th>2</th>\n",
              "      <td>Height</td>\n",
              "      <td>1</td>\n",
              "      <td>0</td>\n",
              "      <td>0</td>\n",
              "      <td>1</td>\n",
              "    </tr>\n",
              "    <tr>\n",
              "      <th>3</th>\n",
              "      <td>Weight</td>\n",
              "      <td>1</td>\n",
              "      <td>0</td>\n",
              "      <td>0</td>\n",
              "      <td>1</td>\n",
              "    </tr>\n",
              "    <tr>\n",
              "      <th>4</th>\n",
              "      <td>BMI</td>\n",
              "      <td>1</td>\n",
              "      <td>0</td>\n",
              "      <td>0</td>\n",
              "      <td>1</td>\n",
              "    </tr>\n",
              "    <tr>\n",
              "      <th>5</th>\n",
              "      <td>Employment Information</td>\n",
              "      <td>3</td>\n",
              "      <td>3</td>\n",
              "      <td>0</td>\n",
              "      <td>6</td>\n",
              "    </tr>\n",
              "    <tr>\n",
              "      <th>6</th>\n",
              "      <td>Insured Information</td>\n",
              "      <td>0</td>\n",
              "      <td>7</td>\n",
              "      <td>0</td>\n",
              "      <td>7</td>\n",
              "    </tr>\n",
              "    <tr>\n",
              "      <th>7</th>\n",
              "      <td>Insurance History</td>\n",
              "      <td>1</td>\n",
              "      <td>8</td>\n",
              "      <td>0</td>\n",
              "      <td>9</td>\n",
              "    </tr>\n",
              "    <tr>\n",
              "      <th>8</th>\n",
              "      <td>Family History</td>\n",
              "      <td>4</td>\n",
              "      <td>1</td>\n",
              "      <td>0</td>\n",
              "      <td>5</td>\n",
              "    </tr>\n",
              "    <tr>\n",
              "      <th>9</th>\n",
              "      <td>Medical History</td>\n",
              "      <td>0</td>\n",
              "      <td>4</td>\n",
              "      <td>0</td>\n",
              "      <td>4</td>\n",
              "    </tr>\n",
              "    <tr>\n",
              "      <th>10</th>\n",
              "      <td>Medical Keyword</td>\n",
              "      <td>0</td>\n",
              "      <td>0</td>\n",
              "      <td>48</td>\n",
              "      <td>48</td>\n",
              "    </tr>\n",
              "    <tr>\n",
              "      <th>11</th>\n",
              "      <td>Sum</td>\n",
              "      <td>13</td>\n",
              "      <td>66</td>\n",
              "      <td>48</td>\n",
              "      <td>1</td>\n",
              "    </tr>\n",
              "  </tbody>\n",
              "</table>\n",
              "</div>"
            ],
            "text/plain": [
              "             Variable_type Continous Categorical Dummy Total\n",
              "0      Product Information         1           6     0     7\n",
              "1            Insurance Age         1           0     0     1\n",
              "2                   Height         1           0     0     1\n",
              "3                   Weight         1           0     0     1\n",
              "4                      BMI         1           0     0     1\n",
              "5   Employment Information         3           3     0     6\n",
              "6      Insured Information         0           7     0     7\n",
              "7        Insurance History         1           8     0     9\n",
              "8           Family History         4           1     0     5\n",
              "9          Medical History         0           4     0     4\n",
              "10         Medical Keyword         0           0    48    48\n",
              "11                     Sum        13          66    48     1"
            ]
          },
          "metadata": {
            "tags": []
          },
          "execution_count": 80
        }
      ]
    },
    {
      "cell_type": "markdown",
      "metadata": {
        "id": "64MnOJjaL-tj"
      },
      "source": [
        "2. 반응도 히스토그램               \n",
        " 명목형 변수인 고객의 위험분류 1~8등급에 따른 반응 도표이다. 위험등급이 위험도 규모의 크기 순서인지 여부는 언급되지 않았으나, 응답 변수의 분포를 통해 8등급이 가장 낮은 위험도를 나타내는 것으로 유추할 수 있다. "
      ]
    },
    {
      "cell_type": "markdown",
      "metadata": {
        "id": "9B_LInQZL6l2"
      },
      "source": [
        "3. 요약통계          \n",
        "기계 학습 알고리즘 변수의 보다 쉬운 통합을 위해 [0, 1] 범위로 정규화한다. 요약 통계량은 기본 데이터 분포를 이해하고, box plot 및 density plot 을 통해 데이터를 시각화하는 데 도움이 된다."
      ]
    },
    {
      "cell_type": "markdown",
      "metadata": {
        "id": "FXtNDGFrZ9RZ"
      },
      "source": [
        "4. 연속 변수 분석        "
      ]
    },
    {
      "cell_type": "markdown",
      "metadata": {
        "id": "g-Q7UF14u1CT"
      },
      "source": [
        "\n",
        "\n",
        "> Box plot 을 사용하면 특히 특이치와 관련하여 데이터 세트를 시각화할 수 있다.\n",
        "\n"
      ]
    },
    {
      "cell_type": "markdown",
      "metadata": {
        "id": "oAGy0ruSZ9x_"
      },
      "source": [
        "> Density plot 은 평균, 표준 편차 및 첨도와 같은 통계 지표를 포함하여 분포의 특성을 시각화하는 데 도움이 된다. 또한 반응 변수와 어떤 관계가 있는지 시각적으로 확인할 수 있다. 예를 들면 다음과 같다. 고용형태 6번 변수의 밀도분포표는 반응 변수의 히스토그램과 유사하며, 이는 아마도 이 변수가 반응 변수의 좋은 예측 변수가 될 수 있음을 나타낸다.\n",
        "\n"
      ]
    },
    {
      "cell_type": "markdown",
      "metadata": {
        "id": "fDc9LywWZ-bg"
      },
      "source": [
        "5. 결측값 분석    "
      ]
    },
    {
      "cell_type": "markdown",
      "metadata": {
        "id": "zWU7HaRWvC6-"
      },
      "source": [
        "\n",
        "\n",
        "> 결측값 백분율 차트는 변수가\u001f 예측을 위한 데이터 레코드가 충분한지 여부를 평가한다. 이 도표는 각 변수의 결측치의 백분율을 나타낸다.\n",
        "\n"
      ]
    },
    {
      "cell_type": "markdown",
      "metadata": {
        "id": "lNe5JlNIZ-j3"
      },
      "source": [
        "> 이 차트를 통해 결측값 비율이 높은 변수가 반응 변수 예측에 실제로 도움이 되는지 확인할 수 있다. 각 반응 범주에 대한 결측값 분포는 변수 내에 유지되므로 결측값은 본질적으로 무작위하다.\n",
        "\n"
      ]
    },
    {
      "cell_type": "markdown",
      "metadata": {
        "id": "CUfE-dZTZ-0R"
      },
      "source": [
        "6. 사고 발생률 차트 \n",
        "  "
      ]
    },
    {
      "cell_type": "markdown",
      "metadata": {
        "id": "lwngZb2JZ-8m"
      },
      "source": [
        "7. 상관관계표\n",
        "데이터 분석과 데이터 처리 후, 모델 개발 단계는 변수 감소일 것이다."
      ]
    },
    {
      "cell_type": "markdown",
      "metadata": {
        "id": "5tuuTT2sJXkV"
      },
      "source": [
        "#4. 변수 처리       \n",
        " "
      ]
    },
    {
      "cell_type": "markdown",
      "metadata": {
        "id": "JdcDmHPWTeIn"
      },
      "source": [
        "1. 누락된 데이터 처리         \n",
        "데이터 처리의 예비 단계로, 결측값 비율이 높은 변수는 제거된다. 제거 임계값은 사용자가 결정하는 것이지만, 이 분석에서의 임계값은 30% 이다.            \n",
        " "
      ]
    },
    {
      "cell_type": "markdown",
      "metadata": {
        "id": "FL-f6xT-UtyX"
      },
      "source": [
        "\n",
        "2. 결측값 처리      \n",
        "이전 모델링 단계에서 삭제되지 않은 변수의 경우, 더 낮은 백분율의 결측값이 있는 변수에 귀속한다. 귀속에 사용되는 방법론은 나머지 데이터의 중위수를 사용하는 것이다. 이는 일반적으로 사용되는 관행이며 모든 변수에 대한 결측 데이터가 반응 변수 위에 랜덤하게 분포되기 때문에 효율적이다."
      ]
    },
    {
      "cell_type": "markdown",
      "metadata": {
        "id": "gXF-6SspU6Nz"
      },
      "source": [
        "3. 주성분 분석\n"
      ]
    },
    {
      "cell_type": "markdown",
      "metadata": {
        "id": "1lkxeQU3VxcV"
      },
      "source": [
        "4. Boruta Classification Algorithm     \n",
        "Boruta는 연관성 있는 모든 특징 선택 wrapper algorithmn 이다. 이 방법은 원래 속성의 중요성과 무작위로 시행된 중요도를 비교하여 모든 관련있는 특징에 대하여 top-down 방식으로 수행된다. 관련성이 높은 특징 순서대로 복사본을 만들고, 관련 없는 특징들을 점진적으로 제거한다. 주성분 분석 이후의 모든 속성은 알고리즘에 의해 중요한 것으로 간주된다."
      ]
    },
    {
      "cell_type": "markdown",
      "metadata": {
        "id": "wp83Ph1nn4cW"
      },
      "source": [
        "#5. 방법론"
      ]
    },
    {
      "cell_type": "markdown",
      "metadata": {
        "id": "qaDI_iPHn7ja"
      },
      "source": [
        "1. Multinominal Logic Model      \n",
        " 데이터를 두 부분으로 나누고 한 부분으로 모델을 예측하고 다른 부분은 모델 유효성 검사와 표본예측을 위해 사용한다.        \n",
        "\n",
        "\n",
        "\n"
      ]
    },
    {
      "cell_type": "markdown",
      "metadata": {
        "id": "CVI0Ti8Ev2Uh"
      },
      "source": [
        "\n",
        "\n",
        "> Train data 와 Test data 의 반응 분포를 살펴본다.\n",
        "\n"
      ]
    },
    {
      "cell_type": "markdown",
      "metadata": {
        "id": "E-_hnS_freC4"
      },
      "source": [
        "> Train & Test data의 분포 비교         \n",
        "분포는 두 부분에 대해 동일하므로 두 부분이 유사한 분포를 따른다고 가정한다."
      ]
    },
    {
      "cell_type": "markdown",
      "metadata": {
        "id": "QvHQo-rUrxOD"
      },
      "source": [
        "> Performance Metrics       \n",
        "Multinominal Logic Model의 Kappa score 는 0.3183794 이다."
      ]
    },
    {
      "cell_type": "markdown",
      "metadata": {
        "id": "2GZ3HwCRt6Jv"
      },
      "source": [
        "2. Random Forest        \n",
        " 데이터를 두 부분으로 나누고 한 부분을 사용하여 모델을 예측하고 다른 부분은 모델 유효성 검사와 표본 예측을 위해 사용한다. 전체 데이터 세트를 예측에 사용할 것이다.        \n",
        " "
      ]
    },
    {
      "cell_type": "markdown",
      "metadata": {
        "id": "qDD1Sm2dwEBa"
      },
      "source": [
        "> Train data 와 Test data 의 반응 분포를 살펴본다.\n",
        "\n"
      ]
    },
    {
      "cell_type": "markdown",
      "metadata": {
        "id": "CmG6DJmZxlg2"
      },
      "source": [
        "> Train & Test data의 분포 비교         \n",
        " 분포는 두 부분에 대해 동일하므로 두 부분이 유사한 분포를 따른다고 가정한다.    "
      ]
    },
    {
      "cell_type": "markdown",
      "metadata": {
        "id": "YJ6atfmW0Uzy"
      },
      "source": [
        "> Performance Metrics           \n",
        " Random Forest의 Kappa Score는 0.4744071이다.           \n",
        "Random Forest 예측에 사용되는 Rattel plot(or tree) 은 다음과 같다."
      ]
    },
    {
      "cell_type": "markdown",
      "metadata": {
        "id": "ML7IfnPJ0fOv"
      },
      "source": [
        "3. XGBoost            \n",
        "XGBoost는 \"Extreme Gradient Boosting\"의 줄임말로, 여기서 \"Gradient Boosting\"이라는 용어는 Greedy function approximation 논문에서 제안했다 : Gradient Boosting machine, by Friedman.       \n",
        "XGBoost는 이 original model 을 기반으로 한다. XGBoost는 학습 문제를 관라하는 데 자주 사용되는데, training data(with multiple features, xi)를 사용하여 target variable(yi)을 예측하는데 사용된다."
      ]
    },
    {
      "cell_type": "code",
      "metadata": {
        "id": "YGyx6iiD_Wx1"
      },
      "source": [
        ""
      ],
      "execution_count": null,
      "outputs": []
    }
  ]
}